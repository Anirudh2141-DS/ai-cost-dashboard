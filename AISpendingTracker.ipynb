{
 "cells": [
  {
   "cell_type": "code",
   "execution_count": 1,
   "id": "f19267d6-0d57-48da-afef-13c3f49a0dc8",
   "metadata": {},
   "outputs": [
    {
     "name": "stdout",
     "output_type": "stream",
     "text": [
      "Requirement already satisfied: pandas in c:\\anaconda3\\lib\\site-packages (2.2.2)\n",
      "Requirement already satisfied: numpy in c:\\anaconda3\\lib\\site-packages (1.26.4)\n",
      "Requirement already satisfied: scikit-learn in c:\\anaconda3\\lib\\site-packages (1.5.1)\n",
      "Requirement already satisfied: matplotlib in c:\\anaconda3\\lib\\site-packages (3.9.2)\n",
      "Requirement already satisfied: seaborn in c:\\anaconda3\\lib\\site-packages (0.13.2)\n",
      "Requirement already satisfied: faker in c:\\anaconda3\\lib\\site-packages (37.1.0)\n",
      "Requirement already satisfied: fpdf2 in c:\\anaconda3\\lib\\site-packages (2.8.3)\n",
      "Requirement already satisfied: streamlit in c:\\anaconda3\\lib\\site-packages (1.37.1)\n",
      "Requirement already satisfied: python-dateutil>=2.8.2 in c:\\anaconda3\\lib\\site-packages (from pandas) (2.9.0.post0)\n",
      "Requirement already satisfied: pytz>=2020.1 in c:\\anaconda3\\lib\\site-packages (from pandas) (2024.1)\n",
      "Requirement already satisfied: tzdata>=2022.7 in c:\\anaconda3\\lib\\site-packages (from pandas) (2023.3)\n",
      "Requirement already satisfied: scipy>=1.6.0 in c:\\anaconda3\\lib\\site-packages (from scikit-learn) (1.13.1)\n",
      "Requirement already satisfied: joblib>=1.2.0 in c:\\anaconda3\\lib\\site-packages (from scikit-learn) (1.4.2)\n",
      "Requirement already satisfied: threadpoolctl>=3.1.0 in c:\\anaconda3\\lib\\site-packages (from scikit-learn) (3.5.0)\n",
      "Requirement already satisfied: contourpy>=1.0.1 in c:\\anaconda3\\lib\\site-packages (from matplotlib) (1.2.0)\n",
      "Requirement already satisfied: cycler>=0.10 in c:\\anaconda3\\lib\\site-packages (from matplotlib) (0.11.0)\n",
      "Requirement already satisfied: fonttools>=4.22.0 in c:\\anaconda3\\lib\\site-packages (from matplotlib) (4.51.0)\n",
      "Requirement already satisfied: kiwisolver>=1.3.1 in c:\\anaconda3\\lib\\site-packages (from matplotlib) (1.4.4)\n",
      "Requirement already satisfied: packaging>=20.0 in c:\\anaconda3\\lib\\site-packages (from matplotlib) (24.1)\n",
      "Requirement already satisfied: pillow>=8 in c:\\anaconda3\\lib\\site-packages (from matplotlib) (10.4.0)\n",
      "Requirement already satisfied: pyparsing>=2.3.1 in c:\\anaconda3\\lib\\site-packages (from matplotlib) (3.1.2)\n",
      "Requirement already satisfied: defusedxml in c:\\anaconda3\\lib\\site-packages (from fpdf2) (0.7.1)\n",
      "Requirement already satisfied: altair<6,>=4.0 in c:\\anaconda3\\lib\\site-packages (from streamlit) (5.0.1)\n",
      "Requirement already satisfied: blinker<2,>=1.0.0 in c:\\anaconda3\\lib\\site-packages (from streamlit) (1.6.2)\n",
      "Requirement already satisfied: cachetools<6,>=4.0 in c:\\anaconda3\\lib\\site-packages (from streamlit) (5.3.3)\n",
      "Requirement already satisfied: click<9,>=7.0 in c:\\anaconda3\\lib\\site-packages (from streamlit) (8.1.7)\n",
      "Requirement already satisfied: protobuf<6,>=3.20 in c:\\anaconda3\\lib\\site-packages (from streamlit) (5.29.4)\n",
      "Requirement already satisfied: pyarrow>=7.0 in c:\\anaconda3\\lib\\site-packages (from streamlit) (16.1.0)\n",
      "Requirement already satisfied: requests<3,>=2.27 in c:\\anaconda3\\lib\\site-packages (from streamlit) (2.32.3)\n",
      "Requirement already satisfied: rich<14,>=10.14.0 in c:\\anaconda3\\lib\\site-packages (from streamlit) (13.7.1)\n",
      "Requirement already satisfied: tenacity<9,>=8.1.0 in c:\\anaconda3\\lib\\site-packages (from streamlit) (8.2.3)\n",
      "Requirement already satisfied: toml<2,>=0.10.1 in c:\\anaconda3\\lib\\site-packages (from streamlit) (0.10.2)\n",
      "Requirement already satisfied: typing-extensions<5,>=4.3.0 in c:\\anaconda3\\lib\\site-packages (from streamlit) (4.11.0)\n",
      "Requirement already satisfied: gitpython!=3.1.19,<4,>=3.0.7 in c:\\anaconda3\\lib\\site-packages (from streamlit) (3.1.43)\n",
      "Requirement already satisfied: pydeck<1,>=0.8.0b4 in c:\\anaconda3\\lib\\site-packages (from streamlit) (0.8.0)\n",
      "Requirement already satisfied: tornado<7,>=6.0.3 in c:\\anaconda3\\lib\\site-packages (from streamlit) (6.4.1)\n",
      "Requirement already satisfied: watchdog<5,>=2.1.5 in c:\\anaconda3\\lib\\site-packages (from streamlit) (4.0.1)\n",
      "Requirement already satisfied: jinja2 in c:\\anaconda3\\lib\\site-packages (from altair<6,>=4.0->streamlit) (3.1.4)\n",
      "Requirement already satisfied: jsonschema>=3.0 in c:\\anaconda3\\lib\\site-packages (from altair<6,>=4.0->streamlit) (4.23.0)\n",
      "Requirement already satisfied: toolz in c:\\anaconda3\\lib\\site-packages (from altair<6,>=4.0->streamlit) (0.12.0)\n",
      "Requirement already satisfied: colorama in c:\\anaconda3\\lib\\site-packages (from click<9,>=7.0->streamlit) (0.4.6)\n",
      "Requirement already satisfied: gitdb<5,>=4.0.1 in c:\\anaconda3\\lib\\site-packages (from gitpython!=3.1.19,<4,>=3.0.7->streamlit) (4.0.7)\n",
      "Requirement already satisfied: six>=1.5 in c:\\anaconda3\\lib\\site-packages (from python-dateutil>=2.8.2->pandas) (1.16.0)\n",
      "Requirement already satisfied: charset-normalizer<4,>=2 in c:\\anaconda3\\lib\\site-packages (from requests<3,>=2.27->streamlit) (3.3.2)\n",
      "Requirement already satisfied: idna<4,>=2.5 in c:\\anaconda3\\lib\\site-packages (from requests<3,>=2.27->streamlit) (3.7)\n",
      "Requirement already satisfied: urllib3<3,>=1.21.1 in c:\\anaconda3\\lib\\site-packages (from requests<3,>=2.27->streamlit) (2.2.3)\n",
      "Requirement already satisfied: certifi>=2017.4.17 in c:\\anaconda3\\lib\\site-packages (from requests<3,>=2.27->streamlit) (2025.1.31)\n",
      "Requirement already satisfied: markdown-it-py>=2.2.0 in c:\\anaconda3\\lib\\site-packages (from rich<14,>=10.14.0->streamlit) (2.2.0)\n",
      "Requirement already satisfied: pygments<3.0.0,>=2.13.0 in c:\\anaconda3\\lib\\site-packages (from rich<14,>=10.14.0->streamlit) (2.15.1)\n",
      "Requirement already satisfied: smmap<5,>=3.0.1 in c:\\anaconda3\\lib\\site-packages (from gitdb<5,>=4.0.1->gitpython!=3.1.19,<4,>=3.0.7->streamlit) (4.0.0)\n",
      "Requirement already satisfied: MarkupSafe>=2.0 in c:\\anaconda3\\lib\\site-packages (from jinja2->altair<6,>=4.0->streamlit) (2.1.3)\n",
      "Requirement already satisfied: attrs>=22.2.0 in c:\\anaconda3\\lib\\site-packages (from jsonschema>=3.0->altair<6,>=4.0->streamlit) (23.1.0)\n",
      "Requirement already satisfied: jsonschema-specifications>=2023.03.6 in c:\\anaconda3\\lib\\site-packages (from jsonschema>=3.0->altair<6,>=4.0->streamlit) (2023.7.1)\n",
      "Requirement already satisfied: referencing>=0.28.4 in c:\\anaconda3\\lib\\site-packages (from jsonschema>=3.0->altair<6,>=4.0->streamlit) (0.30.2)\n",
      "Requirement already satisfied: rpds-py>=0.7.1 in c:\\anaconda3\\lib\\site-packages (from jsonschema>=3.0->altair<6,>=4.0->streamlit) (0.10.6)\n",
      "Requirement already satisfied: mdurl~=0.1 in c:\\anaconda3\\lib\\site-packages (from markdown-it-py>=2.2.0->rich<14,>=10.14.0->streamlit) (0.1.0)\n",
      "Looking in indexes: https://download.pytorch.org/whl/cpu\n",
      "Requirement already satisfied: torch in c:\\anaconda3\\lib\\site-packages (2.6.0)\n",
      "Requirement already satisfied: filelock in c:\\anaconda3\\lib\\site-packages (from torch) (3.13.1)\n",
      "Requirement already satisfied: typing-extensions>=4.10.0 in c:\\anaconda3\\lib\\site-packages (from torch) (4.11.0)\n",
      "Requirement already satisfied: networkx in c:\\anaconda3\\lib\\site-packages (from torch) (3.3)\n",
      "Requirement already satisfied: jinja2 in c:\\anaconda3\\lib\\site-packages (from torch) (3.1.4)\n",
      "Requirement already satisfied: fsspec in c:\\anaconda3\\lib\\site-packages (from torch) (2024.6.1)\n",
      "Requirement already satisfied: setuptools in c:\\anaconda3\\lib\\site-packages (from torch) (75.1.0)\n",
      "Requirement already satisfied: sympy==1.13.1 in c:\\anaconda3\\lib\\site-packages (from torch) (1.13.1)\n",
      "Requirement already satisfied: mpmath<1.4,>=1.1.0 in c:\\anaconda3\\lib\\site-packages (from sympy==1.13.1->torch) (1.3.0)\n",
      "Requirement already satisfied: MarkupSafe>=2.0 in c:\\anaconda3\\lib\\site-packages (from jinja2->torch) (2.1.3)\n",
      "Requirement already satisfied: tensorflow in c:\\anaconda3\\lib\\site-packages (2.19.0)\n",
      "Requirement already satisfied: absl-py>=1.0.0 in c:\\anaconda3\\lib\\site-packages (from tensorflow) (2.1.0)\n",
      "Requirement already satisfied: astunparse>=1.6.0 in c:\\anaconda3\\lib\\site-packages (from tensorflow) (1.6.3)\n",
      "Requirement already satisfied: flatbuffers>=24.3.25 in c:\\anaconda3\\lib\\site-packages (from tensorflow) (25.2.10)\n",
      "Requirement already satisfied: gast!=0.5.0,!=0.5.1,!=0.5.2,>=0.2.1 in c:\\anaconda3\\lib\\site-packages (from tensorflow) (0.6.0)\n",
      "Requirement already satisfied: google-pasta>=0.1.1 in c:\\anaconda3\\lib\\site-packages (from tensorflow) (0.2.0)\n",
      "Requirement already satisfied: libclang>=13.0.0 in c:\\anaconda3\\lib\\site-packages (from tensorflow) (18.1.1)\n",
      "Requirement already satisfied: opt-einsum>=2.3.2 in c:\\anaconda3\\lib\\site-packages (from tensorflow) (3.4.0)\n",
      "Requirement already satisfied: packaging in c:\\anaconda3\\lib\\site-packages (from tensorflow) (24.1)\n",
      "Requirement already satisfied: protobuf!=4.21.0,!=4.21.1,!=4.21.2,!=4.21.3,!=4.21.4,!=4.21.5,<6.0.0dev,>=3.20.3 in c:\\anaconda3\\lib\\site-packages (from tensorflow) (5.29.4)\n",
      "Requirement already satisfied: requests<3,>=2.21.0 in c:\\anaconda3\\lib\\site-packages (from tensorflow) (2.32.3)\n",
      "Requirement already satisfied: setuptools in c:\\anaconda3\\lib\\site-packages (from tensorflow) (75.1.0)\n",
      "Requirement already satisfied: six>=1.12.0 in c:\\anaconda3\\lib\\site-packages (from tensorflow) (1.16.0)\n",
      "Requirement already satisfied: termcolor>=1.1.0 in c:\\anaconda3\\lib\\site-packages (from tensorflow) (2.5.0)\n",
      "Requirement already satisfied: typing-extensions>=3.6.6 in c:\\anaconda3\\lib\\site-packages (from tensorflow) (4.11.0)\n",
      "Requirement already satisfied: wrapt>=1.11.0 in c:\\anaconda3\\lib\\site-packages (from tensorflow) (1.14.1)\n",
      "Requirement already satisfied: grpcio<2.0,>=1.24.3 in c:\\anaconda3\\lib\\site-packages (from tensorflow) (1.72.0)\n",
      "Requirement already satisfied: tensorboard~=2.19.0 in c:\\anaconda3\\lib\\site-packages (from tensorflow) (2.19.0)\n",
      "Requirement already satisfied: keras>=3.5.0 in c:\\anaconda3\\lib\\site-packages (from tensorflow) (3.9.2)\n",
      "Requirement already satisfied: numpy<2.2.0,>=1.26.0 in c:\\anaconda3\\lib\\site-packages (from tensorflow) (1.26.4)\n",
      "Requirement already satisfied: h5py>=3.11.0 in c:\\anaconda3\\lib\\site-packages (from tensorflow) (3.11.0)\n",
      "Requirement already satisfied: ml-dtypes<1.0.0,>=0.5.1 in c:\\anaconda3\\lib\\site-packages (from tensorflow) (0.5.1)\n",
      "Requirement already satisfied: wheel<1.0,>=0.23.0 in c:\\anaconda3\\lib\\site-packages (from astunparse>=1.6.0->tensorflow) (0.44.0)\n",
      "Requirement already satisfied: rich in c:\\anaconda3\\lib\\site-packages (from keras>=3.5.0->tensorflow) (13.7.1)\n",
      "Requirement already satisfied: namex in c:\\anaconda3\\lib\\site-packages (from keras>=3.5.0->tensorflow) (0.0.8)\n",
      "Requirement already satisfied: optree in c:\\anaconda3\\lib\\site-packages (from keras>=3.5.0->tensorflow) (0.14.1)\n",
      "Requirement already satisfied: charset-normalizer<4,>=2 in c:\\anaconda3\\lib\\site-packages (from requests<3,>=2.21.0->tensorflow) (3.3.2)\n",
      "Requirement already satisfied: idna<4,>=2.5 in c:\\anaconda3\\lib\\site-packages (from requests<3,>=2.21.0->tensorflow) (3.7)\n",
      "Requirement already satisfied: urllib3<3,>=1.21.1 in c:\\anaconda3\\lib\\site-packages (from requests<3,>=2.21.0->tensorflow) (2.2.3)\n",
      "Requirement already satisfied: certifi>=2017.4.17 in c:\\anaconda3\\lib\\site-packages (from requests<3,>=2.21.0->tensorflow) (2025.1.31)\n",
      "Requirement already satisfied: markdown>=2.6.8 in c:\\anaconda3\\lib\\site-packages (from tensorboard~=2.19.0->tensorflow) (3.4.1)\n",
      "Requirement already satisfied: tensorboard-data-server<0.8.0,>=0.7.0 in c:\\anaconda3\\lib\\site-packages (from tensorboard~=2.19.0->tensorflow) (0.7.2)\n",
      "Requirement already satisfied: werkzeug>=1.0.1 in c:\\anaconda3\\lib\\site-packages (from tensorboard~=2.19.0->tensorflow) (3.0.3)\n",
      "Requirement already satisfied: MarkupSafe>=2.1.1 in c:\\anaconda3\\lib\\site-packages (from werkzeug>=1.0.1->tensorboard~=2.19.0->tensorflow) (2.1.3)\n",
      "Requirement already satisfied: markdown-it-py>=2.2.0 in c:\\anaconda3\\lib\\site-packages (from rich->keras>=3.5.0->tensorflow) (2.2.0)\n",
      "Requirement already satisfied: pygments<3.0.0,>=2.13.0 in c:\\anaconda3\\lib\\site-packages (from rich->keras>=3.5.0->tensorflow) (2.15.1)\n",
      "Requirement already satisfied: mdurl~=0.1 in c:\\anaconda3\\lib\\site-packages (from markdown-it-py>=2.2.0->rich->keras>=3.5.0->tensorflow) (0.1.0)\n",
      "Requirement already satisfied: transformers in c:\\anaconda3\\lib\\site-packages (4.51.3)\n",
      "Requirement already satisfied: filelock in c:\\anaconda3\\lib\\site-packages (from transformers) (3.13.1)\n",
      "Requirement already satisfied: huggingface-hub<1.0,>=0.30.0 in c:\\anaconda3\\lib\\site-packages (from transformers) (0.30.2)\n",
      "Requirement already satisfied: numpy>=1.17 in c:\\anaconda3\\lib\\site-packages (from transformers) (1.26.4)\n",
      "Requirement already satisfied: packaging>=20.0 in c:\\anaconda3\\lib\\site-packages (from transformers) (24.1)\n",
      "Requirement already satisfied: pyyaml>=5.1 in c:\\anaconda3\\lib\\site-packages (from transformers) (6.0.1)\n",
      "Requirement already satisfied: regex!=2019.12.17 in c:\\anaconda3\\lib\\site-packages (from transformers) (2024.9.11)\n",
      "Requirement already satisfied: requests in c:\\anaconda3\\lib\\site-packages (from transformers) (2.32.3)\n",
      "Requirement already satisfied: tokenizers<0.22,>=0.21 in c:\\anaconda3\\lib\\site-packages (from transformers) (0.21.1)\n",
      "Requirement already satisfied: safetensors>=0.4.3 in c:\\anaconda3\\lib\\site-packages (from transformers) (0.5.3)\n",
      "Requirement already satisfied: tqdm>=4.27 in c:\\anaconda3\\lib\\site-packages (from transformers) (4.66.5)\n",
      "Requirement already satisfied: fsspec>=2023.5.0 in c:\\anaconda3\\lib\\site-packages (from huggingface-hub<1.0,>=0.30.0->transformers) (2024.6.1)\n",
      "Requirement already satisfied: typing-extensions>=3.7.4.3 in c:\\anaconda3\\lib\\site-packages (from huggingface-hub<1.0,>=0.30.0->transformers) (4.11.0)\n",
      "Requirement already satisfied: colorama in c:\\anaconda3\\lib\\site-packages (from tqdm>=4.27->transformers) (0.4.6)\n",
      "Requirement already satisfied: charset-normalizer<4,>=2 in c:\\anaconda3\\lib\\site-packages (from requests->transformers) (3.3.2)\n",
      "Requirement already satisfied: idna<4,>=2.5 in c:\\anaconda3\\lib\\site-packages (from requests->transformers) (3.7)\n",
      "Requirement already satisfied: urllib3<3,>=1.21.1 in c:\\anaconda3\\lib\\site-packages (from requests->transformers) (2.2.3)\n",
      "Requirement already satisfied: certifi>=2017.4.17 in c:\\anaconda3\\lib\\site-packages (from requests->transformers) (2025.1.31)\n",
      "Requirement already satisfied: huggingface_hub in c:\\anaconda3\\lib\\site-packages (0.30.2)\n",
      "Requirement already satisfied: filelock in c:\\anaconda3\\lib\\site-packages (from huggingface_hub) (3.13.1)\n",
      "Requirement already satisfied: fsspec>=2023.5.0 in c:\\anaconda3\\lib\\site-packages (from huggingface_hub) (2024.6.1)\n",
      "Requirement already satisfied: packaging>=20.9 in c:\\anaconda3\\lib\\site-packages (from huggingface_hub) (24.1)\n",
      "Requirement already satisfied: pyyaml>=5.1 in c:\\anaconda3\\lib\\site-packages (from huggingface_hub) (6.0.1)\n",
      "Requirement already satisfied: requests in c:\\anaconda3\\lib\\site-packages (from huggingface_hub) (2.32.3)\n",
      "Requirement already satisfied: tqdm>=4.42.1 in c:\\anaconda3\\lib\\site-packages (from huggingface_hub) (4.66.5)\n",
      "Requirement already satisfied: typing-extensions>=3.7.4.3 in c:\\anaconda3\\lib\\site-packages (from huggingface_hub) (4.11.0)\n",
      "Requirement already satisfied: colorama in c:\\anaconda3\\lib\\site-packages (from tqdm>=4.42.1->huggingface_hub) (0.4.6)\n",
      "Requirement already satisfied: charset-normalizer<4,>=2 in c:\\anaconda3\\lib\\site-packages (from requests->huggingface_hub) (3.3.2)\n",
      "Requirement already satisfied: idna<4,>=2.5 in c:\\anaconda3\\lib\\site-packages (from requests->huggingface_hub) (3.7)\n",
      "Requirement already satisfied: urllib3<3,>=1.21.1 in c:\\anaconda3\\lib\\site-packages (from requests->huggingface_hub) (2.2.3)\n",
      "Requirement already satisfied: certifi>=2017.4.17 in c:\\anaconda3\\lib\\site-packages (from requests->huggingface_hub) (2025.1.31)\n",
      "Requirement already satisfied: langchain in c:\\anaconda3\\lib\\site-packages (0.3.24)\n",
      "Requirement already satisfied: langchain-community in c:\\anaconda3\\lib\\site-packages (0.3.23)\n",
      "Requirement already satisfied: langchain-huggingface in c:\\anaconda3\\lib\\site-packages (0.1.2)\n",
      "Requirement already satisfied: langchain-core<1.0.0,>=0.3.55 in c:\\anaconda3\\lib\\site-packages (from langchain) (0.3.56)\n",
      "Requirement already satisfied: langchain-text-splitters<1.0.0,>=0.3.8 in c:\\anaconda3\\lib\\site-packages (from langchain) (0.3.8)\n",
      "Requirement already satisfied: langsmith<0.4,>=0.1.17 in c:\\anaconda3\\lib\\site-packages (from langchain) (0.3.38)\n",
      "Requirement already satisfied: pydantic<3.0.0,>=2.7.4 in c:\\anaconda3\\lib\\site-packages (from langchain) (2.8.2)\n",
      "Requirement already satisfied: SQLAlchemy<3,>=1.4 in c:\\anaconda3\\lib\\site-packages (from langchain) (2.0.34)\n",
      "Requirement already satisfied: requests<3,>=2 in c:\\anaconda3\\lib\\site-packages (from langchain) (2.32.3)\n",
      "Requirement already satisfied: PyYAML>=5.3 in c:\\anaconda3\\lib\\site-packages (from langchain) (6.0.1)\n",
      "Requirement already satisfied: aiohttp<4.0.0,>=3.8.3 in c:\\anaconda3\\lib\\site-packages (from langchain-community) (3.10.5)\n",
      "Requirement already satisfied: tenacity!=8.4.0,<10,>=8.1.0 in c:\\anaconda3\\lib\\site-packages (from langchain-community) (8.2.3)\n",
      "Requirement already satisfied: dataclasses-json<0.7,>=0.5.7 in c:\\anaconda3\\lib\\site-packages (from langchain-community) (0.6.7)\n",
      "Requirement already satisfied: pydantic-settings<3.0.0,>=2.4.0 in c:\\anaconda3\\lib\\site-packages (from langchain-community) (2.6.1)\n",
      "Requirement already satisfied: httpx-sse<1.0.0,>=0.4.0 in c:\\anaconda3\\lib\\site-packages (from langchain-community) (0.4.0)\n",
      "Requirement already satisfied: numpy>=1.26.2 in c:\\anaconda3\\lib\\site-packages (from langchain-community) (1.26.4)\n",
      "Requirement already satisfied: huggingface-hub>=0.23.0 in c:\\anaconda3\\lib\\site-packages (from langchain-huggingface) (0.30.2)\n",
      "Requirement already satisfied: sentence-transformers>=2.6.0 in c:\\anaconda3\\lib\\site-packages (from langchain-huggingface) (4.1.0)\n",
      "Requirement already satisfied: tokenizers>=0.19.1 in c:\\anaconda3\\lib\\site-packages (from langchain-huggingface) (0.21.1)\n",
      "Requirement already satisfied: transformers>=4.39.0 in c:\\anaconda3\\lib\\site-packages (from langchain-huggingface) (4.51.3)\n",
      "Requirement already satisfied: aiohappyeyeballs>=2.3.0 in c:\\anaconda3\\lib\\site-packages (from aiohttp<4.0.0,>=3.8.3->langchain-community) (2.4.0)\n",
      "Requirement already satisfied: aiosignal>=1.1.2 in c:\\anaconda3\\lib\\site-packages (from aiohttp<4.0.0,>=3.8.3->langchain-community) (1.2.0)\n",
      "Requirement already satisfied: attrs>=17.3.0 in c:\\anaconda3\\lib\\site-packages (from aiohttp<4.0.0,>=3.8.3->langchain-community) (23.1.0)\n",
      "Requirement already satisfied: frozenlist>=1.1.1 in c:\\anaconda3\\lib\\site-packages (from aiohttp<4.0.0,>=3.8.3->langchain-community) (1.4.0)\n",
      "Requirement already satisfied: multidict<7.0,>=4.5 in c:\\anaconda3\\lib\\site-packages (from aiohttp<4.0.0,>=3.8.3->langchain-community) (6.0.4)\n",
      "Requirement already satisfied: yarl<2.0,>=1.0 in c:\\anaconda3\\lib\\site-packages (from aiohttp<4.0.0,>=3.8.3->langchain-community) (1.11.0)\n",
      "Requirement already satisfied: marshmallow<4.0.0,>=3.18.0 in c:\\anaconda3\\lib\\site-packages (from dataclasses-json<0.7,>=0.5.7->langchain-community) (3.26.1)\n",
      "Requirement already satisfied: typing-inspect<1,>=0.4.0 in c:\\anaconda3\\lib\\site-packages (from dataclasses-json<0.7,>=0.5.7->langchain-community) (0.9.0)\n",
      "Requirement already satisfied: filelock in c:\\anaconda3\\lib\\site-packages (from huggingface-hub>=0.23.0->langchain-huggingface) (3.13.1)\n",
      "Requirement already satisfied: fsspec>=2023.5.0 in c:\\anaconda3\\lib\\site-packages (from huggingface-hub>=0.23.0->langchain-huggingface) (2024.6.1)\n",
      "Requirement already satisfied: packaging>=20.9 in c:\\anaconda3\\lib\\site-packages (from huggingface-hub>=0.23.0->langchain-huggingface) (24.1)\n",
      "Requirement already satisfied: tqdm>=4.42.1 in c:\\anaconda3\\lib\\site-packages (from huggingface-hub>=0.23.0->langchain-huggingface) (4.66.5)\n",
      "Requirement already satisfied: typing-extensions>=3.7.4.3 in c:\\anaconda3\\lib\\site-packages (from huggingface-hub>=0.23.0->langchain-huggingface) (4.11.0)\n",
      "Requirement already satisfied: jsonpatch<2.0,>=1.33 in c:\\anaconda3\\lib\\site-packages (from langchain-core<1.0.0,>=0.3.55->langchain) (1.33)\n",
      "Requirement already satisfied: httpx<1,>=0.23.0 in c:\\anaconda3\\lib\\site-packages (from langsmith<0.4,>=0.1.17->langchain) (0.27.0)\n",
      "Requirement already satisfied: orjson<4.0.0,>=3.9.14 in c:\\anaconda3\\lib\\site-packages (from langsmith<0.4,>=0.1.17->langchain) (3.10.17)\n",
      "Requirement already satisfied: requests-toolbelt<2.0.0,>=1.0.0 in c:\\anaconda3\\lib\\site-packages (from langsmith<0.4,>=0.1.17->langchain) (1.0.0)\n",
      "Requirement already satisfied: zstandard<0.24.0,>=0.23.0 in c:\\anaconda3\\lib\\site-packages (from langsmith<0.4,>=0.1.17->langchain) (0.23.0)\n",
      "Requirement already satisfied: annotated-types>=0.4.0 in c:\\anaconda3\\lib\\site-packages (from pydantic<3.0.0,>=2.7.4->langchain) (0.6.0)\n",
      "Requirement already satisfied: pydantic-core==2.20.1 in c:\\anaconda3\\lib\\site-packages (from pydantic<3.0.0,>=2.7.4->langchain) (2.20.1)\n",
      "Requirement already satisfied: python-dotenv>=0.21.0 in c:\\anaconda3\\lib\\site-packages (from pydantic-settings<3.0.0,>=2.4.0->langchain-community) (0.21.0)\n",
      "Requirement already satisfied: charset-normalizer<4,>=2 in c:\\anaconda3\\lib\\site-packages (from requests<3,>=2->langchain) (3.3.2)\n",
      "Requirement already satisfied: idna<4,>=2.5 in c:\\anaconda3\\lib\\site-packages (from requests<3,>=2->langchain) (3.7)\n",
      "Requirement already satisfied: urllib3<3,>=1.21.1 in c:\\anaconda3\\lib\\site-packages (from requests<3,>=2->langchain) (2.2.3)\n",
      "Requirement already satisfied: certifi>=2017.4.17 in c:\\anaconda3\\lib\\site-packages (from requests<3,>=2->langchain) (2025.1.31)\n",
      "Requirement already satisfied: torch>=1.11.0 in c:\\anaconda3\\lib\\site-packages (from sentence-transformers>=2.6.0->langchain-huggingface) (2.6.0)\n",
      "Requirement already satisfied: scikit-learn in c:\\anaconda3\\lib\\site-packages (from sentence-transformers>=2.6.0->langchain-huggingface) (1.5.1)\n",
      "Requirement already satisfied: scipy in c:\\anaconda3\\lib\\site-packages (from sentence-transformers>=2.6.0->langchain-huggingface) (1.13.1)\n",
      "Requirement already satisfied: Pillow in c:\\anaconda3\\lib\\site-packages (from sentence-transformers>=2.6.0->langchain-huggingface) (10.4.0)\n",
      "Requirement already satisfied: greenlet!=0.4.17 in c:\\anaconda3\\lib\\site-packages (from SQLAlchemy<3,>=1.4->langchain) (3.0.1)\n",
      "Requirement already satisfied: regex!=2019.12.17 in c:\\anaconda3\\lib\\site-packages (from transformers>=4.39.0->langchain-huggingface) (2024.9.11)\n",
      "Requirement already satisfied: safetensors>=0.4.3 in c:\\anaconda3\\lib\\site-packages (from transformers>=4.39.0->langchain-huggingface) (0.5.3)\n",
      "Requirement already satisfied: anyio in c:\\anaconda3\\lib\\site-packages (from httpx<1,>=0.23.0->langsmith<0.4,>=0.1.17->langchain) (4.2.0)\n",
      "Requirement already satisfied: httpcore==1.* in c:\\anaconda3\\lib\\site-packages (from httpx<1,>=0.23.0->langsmith<0.4,>=0.1.17->langchain) (1.0.2)\n",
      "Requirement already satisfied: sniffio in c:\\anaconda3\\lib\\site-packages (from httpx<1,>=0.23.0->langsmith<0.4,>=0.1.17->langchain) (1.3.0)\n",
      "Requirement already satisfied: h11<0.15,>=0.13 in c:\\anaconda3\\lib\\site-packages (from httpcore==1.*->httpx<1,>=0.23.0->langsmith<0.4,>=0.1.17->langchain) (0.14.0)\n",
      "Requirement already satisfied: jsonpointer>=1.9 in c:\\anaconda3\\lib\\site-packages (from jsonpatch<2.0,>=1.33->langchain-core<1.0.0,>=0.3.55->langchain) (2.1)\n",
      "Requirement already satisfied: networkx in c:\\anaconda3\\lib\\site-packages (from torch>=1.11.0->sentence-transformers>=2.6.0->langchain-huggingface) (3.3)\n",
      "Requirement already satisfied: jinja2 in c:\\anaconda3\\lib\\site-packages (from torch>=1.11.0->sentence-transformers>=2.6.0->langchain-huggingface) (3.1.4)\n",
      "Requirement already satisfied: setuptools in c:\\anaconda3\\lib\\site-packages (from torch>=1.11.0->sentence-transformers>=2.6.0->langchain-huggingface) (75.1.0)\n",
      "Requirement already satisfied: sympy==1.13.1 in c:\\anaconda3\\lib\\site-packages (from torch>=1.11.0->sentence-transformers>=2.6.0->langchain-huggingface) (1.13.1)\n",
      "Requirement already satisfied: mpmath<1.4,>=1.1.0 in c:\\anaconda3\\lib\\site-packages (from sympy==1.13.1->torch>=1.11.0->sentence-transformers>=2.6.0->langchain-huggingface) (1.3.0)\n",
      "Requirement already satisfied: colorama in c:\\anaconda3\\lib\\site-packages (from tqdm>=4.42.1->huggingface-hub>=0.23.0->langchain-huggingface) (0.4.6)\n",
      "Requirement already satisfied: mypy-extensions>=0.3.0 in c:\\anaconda3\\lib\\site-packages (from typing-inspect<1,>=0.4.0->dataclasses-json<0.7,>=0.5.7->langchain-community) (1.0.0)\n",
      "Requirement already satisfied: joblib>=1.2.0 in c:\\anaconda3\\lib\\site-packages (from scikit-learn->sentence-transformers>=2.6.0->langchain-huggingface) (1.4.2)\n",
      "Requirement already satisfied: threadpoolctl>=3.1.0 in c:\\anaconda3\\lib\\site-packages (from scikit-learn->sentence-transformers>=2.6.0->langchain-huggingface) (3.5.0)\n",
      "Requirement already satisfied: MarkupSafe>=2.0 in c:\\anaconda3\\lib\\site-packages (from jinja2->torch>=1.11.0->sentence-transformers>=2.6.0->langchain-huggingface) (2.1.3)\n",
      "Requirement already satisfied: langchain-experimental in c:\\anaconda3\\lib\\site-packages (0.3.4)\n",
      "Requirement already satisfied: langchain-community<0.4.0,>=0.3.0 in c:\\anaconda3\\lib\\site-packages (from langchain-experimental) (0.3.23)\n",
      "Requirement already satisfied: langchain-core<0.4.0,>=0.3.28 in c:\\anaconda3\\lib\\site-packages (from langchain-experimental) (0.3.56)\n",
      "Requirement already satisfied: langchain<1.0.0,>=0.3.24 in c:\\anaconda3\\lib\\site-packages (from langchain-community<0.4.0,>=0.3.0->langchain-experimental) (0.3.24)\n",
      "Requirement already satisfied: SQLAlchemy<3,>=1.4 in c:\\anaconda3\\lib\\site-packages (from langchain-community<0.4.0,>=0.3.0->langchain-experimental) (2.0.34)\n",
      "Requirement already satisfied: requests<3,>=2 in c:\\anaconda3\\lib\\site-packages (from langchain-community<0.4.0,>=0.3.0->langchain-experimental) (2.32.3)\n",
      "Requirement already satisfied: PyYAML>=5.3 in c:\\anaconda3\\lib\\site-packages (from langchain-community<0.4.0,>=0.3.0->langchain-experimental) (6.0.1)\n",
      "Requirement already satisfied: aiohttp<4.0.0,>=3.8.3 in c:\\anaconda3\\lib\\site-packages (from langchain-community<0.4.0,>=0.3.0->langchain-experimental) (3.10.5)\n",
      "Requirement already satisfied: tenacity!=8.4.0,<10,>=8.1.0 in c:\\anaconda3\\lib\\site-packages (from langchain-community<0.4.0,>=0.3.0->langchain-experimental) (8.2.3)\n",
      "Requirement already satisfied: dataclasses-json<0.7,>=0.5.7 in c:\\anaconda3\\lib\\site-packages (from langchain-community<0.4.0,>=0.3.0->langchain-experimental) (0.6.7)\n",
      "Requirement already satisfied: pydantic-settings<3.0.0,>=2.4.0 in c:\\anaconda3\\lib\\site-packages (from langchain-community<0.4.0,>=0.3.0->langchain-experimental) (2.6.1)\n",
      "Requirement already satisfied: langsmith<0.4,>=0.1.125 in c:\\anaconda3\\lib\\site-packages (from langchain-community<0.4.0,>=0.3.0->langchain-experimental) (0.3.38)\n",
      "Requirement already satisfied: httpx-sse<1.0.0,>=0.4.0 in c:\\anaconda3\\lib\\site-packages (from langchain-community<0.4.0,>=0.3.0->langchain-experimental) (0.4.0)\n",
      "Requirement already satisfied: numpy>=1.26.2 in c:\\anaconda3\\lib\\site-packages (from langchain-community<0.4.0,>=0.3.0->langchain-experimental) (1.26.4)\n",
      "Requirement already satisfied: jsonpatch<2.0,>=1.33 in c:\\anaconda3\\lib\\site-packages (from langchain-core<0.4.0,>=0.3.28->langchain-experimental) (1.33)\n",
      "Requirement already satisfied: packaging<25,>=23.2 in c:\\anaconda3\\lib\\site-packages (from langchain-core<0.4.0,>=0.3.28->langchain-experimental) (24.1)\n",
      "Requirement already satisfied: typing-extensions>=4.7 in c:\\anaconda3\\lib\\site-packages (from langchain-core<0.4.0,>=0.3.28->langchain-experimental) (4.11.0)\n",
      "Requirement already satisfied: pydantic<3.0.0,>=2.7.4 in c:\\anaconda3\\lib\\site-packages (from langchain-core<0.4.0,>=0.3.28->langchain-experimental) (2.8.2)\n",
      "Requirement already satisfied: aiohappyeyeballs>=2.3.0 in c:\\anaconda3\\lib\\site-packages (from aiohttp<4.0.0,>=3.8.3->langchain-community<0.4.0,>=0.3.0->langchain-experimental) (2.4.0)\n",
      "Requirement already satisfied: aiosignal>=1.1.2 in c:\\anaconda3\\lib\\site-packages (from aiohttp<4.0.0,>=3.8.3->langchain-community<0.4.0,>=0.3.0->langchain-experimental) (1.2.0)\n",
      "Requirement already satisfied: attrs>=17.3.0 in c:\\anaconda3\\lib\\site-packages (from aiohttp<4.0.0,>=3.8.3->langchain-community<0.4.0,>=0.3.0->langchain-experimental) (23.1.0)\n",
      "Requirement already satisfied: frozenlist>=1.1.1 in c:\\anaconda3\\lib\\site-packages (from aiohttp<4.0.0,>=3.8.3->langchain-community<0.4.0,>=0.3.0->langchain-experimental) (1.4.0)\n",
      "Requirement already satisfied: multidict<7.0,>=4.5 in c:\\anaconda3\\lib\\site-packages (from aiohttp<4.0.0,>=3.8.3->langchain-community<0.4.0,>=0.3.0->langchain-experimental) (6.0.4)\n",
      "Requirement already satisfied: yarl<2.0,>=1.0 in c:\\anaconda3\\lib\\site-packages (from aiohttp<4.0.0,>=3.8.3->langchain-community<0.4.0,>=0.3.0->langchain-experimental) (1.11.0)\n",
      "Requirement already satisfied: marshmallow<4.0.0,>=3.18.0 in c:\\anaconda3\\lib\\site-packages (from dataclasses-json<0.7,>=0.5.7->langchain-community<0.4.0,>=0.3.0->langchain-experimental) (3.26.1)\n",
      "Requirement already satisfied: typing-inspect<1,>=0.4.0 in c:\\anaconda3\\lib\\site-packages (from dataclasses-json<0.7,>=0.5.7->langchain-community<0.4.0,>=0.3.0->langchain-experimental) (0.9.0)\n",
      "Requirement already satisfied: jsonpointer>=1.9 in c:\\anaconda3\\lib\\site-packages (from jsonpatch<2.0,>=1.33->langchain-core<0.4.0,>=0.3.28->langchain-experimental) (2.1)\n",
      "Requirement already satisfied: langchain-text-splitters<1.0.0,>=0.3.8 in c:\\anaconda3\\lib\\site-packages (from langchain<1.0.0,>=0.3.24->langchain-community<0.4.0,>=0.3.0->langchain-experimental) (0.3.8)\n",
      "Requirement already satisfied: httpx<1,>=0.23.0 in c:\\anaconda3\\lib\\site-packages (from langsmith<0.4,>=0.1.125->langchain-community<0.4.0,>=0.3.0->langchain-experimental) (0.27.0)\n",
      "Requirement already satisfied: orjson<4.0.0,>=3.9.14 in c:\\anaconda3\\lib\\site-packages (from langsmith<0.4,>=0.1.125->langchain-community<0.4.0,>=0.3.0->langchain-experimental) (3.10.17)\n",
      "Requirement already satisfied: requests-toolbelt<2.0.0,>=1.0.0 in c:\\anaconda3\\lib\\site-packages (from langsmith<0.4,>=0.1.125->langchain-community<0.4.0,>=0.3.0->langchain-experimental) (1.0.0)\n",
      "Requirement already satisfied: zstandard<0.24.0,>=0.23.0 in c:\\anaconda3\\lib\\site-packages (from langsmith<0.4,>=0.1.125->langchain-community<0.4.0,>=0.3.0->langchain-experimental) (0.23.0)\n",
      "Requirement already satisfied: annotated-types>=0.4.0 in c:\\anaconda3\\lib\\site-packages (from pydantic<3.0.0,>=2.7.4->langchain-core<0.4.0,>=0.3.28->langchain-experimental) (0.6.0)\n",
      "Requirement already satisfied: pydantic-core==2.20.1 in c:\\anaconda3\\lib\\site-packages (from pydantic<3.0.0,>=2.7.4->langchain-core<0.4.0,>=0.3.28->langchain-experimental) (2.20.1)\n",
      "Requirement already satisfied: python-dotenv>=0.21.0 in c:\\anaconda3\\lib\\site-packages (from pydantic-settings<3.0.0,>=2.4.0->langchain-community<0.4.0,>=0.3.0->langchain-experimental) (0.21.0)\n",
      "Requirement already satisfied: charset-normalizer<4,>=2 in c:\\anaconda3\\lib\\site-packages (from requests<3,>=2->langchain-community<0.4.0,>=0.3.0->langchain-experimental) (3.3.2)\n",
      "Requirement already satisfied: idna<4,>=2.5 in c:\\anaconda3\\lib\\site-packages (from requests<3,>=2->langchain-community<0.4.0,>=0.3.0->langchain-experimental) (3.7)\n",
      "Requirement already satisfied: urllib3<3,>=1.21.1 in c:\\anaconda3\\lib\\site-packages (from requests<3,>=2->langchain-community<0.4.0,>=0.3.0->langchain-experimental) (2.2.3)\n",
      "Requirement already satisfied: certifi>=2017.4.17 in c:\\anaconda3\\lib\\site-packages (from requests<3,>=2->langchain-community<0.4.0,>=0.3.0->langchain-experimental) (2025.1.31)\n",
      "Requirement already satisfied: greenlet!=0.4.17 in c:\\anaconda3\\lib\\site-packages (from SQLAlchemy<3,>=1.4->langchain-community<0.4.0,>=0.3.0->langchain-experimental) (3.0.1)\n",
      "Requirement already satisfied: anyio in c:\\anaconda3\\lib\\site-packages (from httpx<1,>=0.23.0->langsmith<0.4,>=0.1.125->langchain-community<0.4.0,>=0.3.0->langchain-experimental) (4.2.0)\n",
      "Requirement already satisfied: httpcore==1.* in c:\\anaconda3\\lib\\site-packages (from httpx<1,>=0.23.0->langsmith<0.4,>=0.1.125->langchain-community<0.4.0,>=0.3.0->langchain-experimental) (1.0.2)\n",
      "Requirement already satisfied: sniffio in c:\\anaconda3\\lib\\site-packages (from httpx<1,>=0.23.0->langsmith<0.4,>=0.1.125->langchain-community<0.4.0,>=0.3.0->langchain-experimental) (1.3.0)\n",
      "Requirement already satisfied: h11<0.15,>=0.13 in c:\\anaconda3\\lib\\site-packages (from httpcore==1.*->httpx<1,>=0.23.0->langsmith<0.4,>=0.1.125->langchain-community<0.4.0,>=0.3.0->langchain-experimental) (0.14.0)\n",
      "Requirement already satisfied: mypy-extensions>=0.3.0 in c:\\anaconda3\\lib\\site-packages (from typing-inspect<1,>=0.4.0->dataclasses-json<0.7,>=0.5.7->langchain-community<0.4.0,>=0.3.0->langchain-experimental) (1.0.0)\n"
     ]
    }
   ],
   "source": [
    "!pip install pandas numpy scikit-learn matplotlib seaborn faker fpdf2 streamlit\n",
    "!pip install torch --index-url https://download.pytorch.org/whl/cpu\n",
    "!pip install tensorflow\n",
    "!pip install transformers\n",
    "!pip install huggingface_hub\n",
    "!pip install langchain langchain-community langchain-huggingface\n",
    "!pip install langchain-experimental"
   ]
  },
  {
   "cell_type": "code",
   "execution_count": 2,
   "id": "db268f98-67f4-459e-b289-f8ac39132995",
   "metadata": {},
   "outputs": [
    {
     "name": "stderr",
     "output_type": "stream",
     "text": [
      "C:\\Anaconda3\\Lib\\site-packages\\fpdf\\__init__.py:40: UserWarning: You have both PyFPDF & fpdf2 installed. Both packages cannot be installed at the same time as they share the same module namespace. To only keep fpdf2, run: pip uninstall --yes pypdf && pip install --upgrade fpdf2\n",
      "  warnings.warn(\n"
     ]
    }
   ],
   "source": [
    "import pandas as pd\n",
    "import numpy as np\n",
    "import random\n",
    "from datetime import datetime\n",
    "import matplotlib.pyplot as plt\n",
    "import seaborn as sns\n",
    "from faker import Faker\n",
    "from sklearn.cluster import KMeans\n",
    "from sklearn.linear_model import LinearRegression\n",
    "import torch\n",
    "import tensorflow as tf\n",
    "from transformers import AutoTokenizer, AutoModelForSeq2SeqLM, pipeline\n",
    "from langchain.llms import HuggingFacePipeline\n",
    "from langchain.prompts import PromptTemplate\n",
    "from langchain_experimental.agents import create_pandas_dataframe_agent\n",
    "from langchain.agents.agent_types import AgentType\n",
    "from langchain_community.chat_models import ChatHuggingFace\n",
    "from transformers import AutoModelForCausalLM\n",
    "from fpdf import FPDF\n",
    "import os\n",
    "import streamlit as st"
   ]
  },
  {
   "cell_type": "code",
   "execution_count": 3,
   "id": "27fd7c43-6518-4544-8310-0bf5e39f215e",
   "metadata": {},
   "outputs": [],
   "source": [
    "# Limit TensorFlow GPU usage\n",
    "gpus = tf.config.list_physical_devices('GPU')\n",
    "if gpus:\n",
    "    for gpu in gpus:\n",
    "        tf.config.experimental.set_memory_growth(gpu, True)"
   ]
  },
  {
   "cell_type": "code",
   "execution_count": 4,
   "id": "d5750fd2-af0d-477d-8cbd-e1aa1c5f0db7",
   "metadata": {},
   "outputs": [],
   "source": [
    "faker = Faker()"
   ]
  },
  {
   "cell_type": "code",
   "execution_count": 5,
   "id": "0c6cf912-bb67-457f-ac4a-c58db1072a81",
   "metadata": {},
   "outputs": [],
   "source": [
    "vendors = {\n",
    "    'starbucks': 'Food',\n",
    "    'amazon': 'Shopping',\n",
    "    'netflix': 'Entertainment',\n",
    "    'uber': 'Transport',\n",
    "    'walmart': 'Groceries',\n",
    "    'spotify': 'Entertainment'\n",
    "}"
   ]
  },
  {
   "cell_type": "code",
   "execution_count": 6,
   "id": "656db883-ac44-416d-8a1a-a7239ca13e6e",
   "metadata": {},
   "outputs": [],
   "source": [
    "def generate_fake_transactions(n=100):\n",
    "    return pd.DataFrame([{\n",
    "        'Date': faker.date_between(start_date='-60d', end_date='today'),\n",
    "        'Vendor': vendor,\n",
    "        'Amount': round(random.uniform(5.0, 300.0), 2),\n",
    "        'Category': vendors[vendor]\n",
    "    } for vendor in random.choices(list(vendors.keys()), k=n)])"
   ]
  },
  {
   "cell_type": "code",
   "execution_count": 7,
   "id": "1c591500-acd2-4ad7-87c3-94215099e6b9",
   "metadata": {},
   "outputs": [],
   "source": [
    "USE_FAKE_DATA = True"
   ]
  },
  {
   "cell_type": "code",
   "execution_count": 8,
   "id": "8f1fa106-8691-4724-8f05-3d0c99703bab",
   "metadata": {},
   "outputs": [],
   "source": [
    "def load_real_transactions(path):\n",
    "    df = pd.read_csv(path, usecols=['date', 'description', 'amount'], low_memory=False)\n",
    "    df.rename(columns={'date': 'Date', 'description': 'Vendor', 'amount': 'Amount'}, inplace=True)\n",
    "    df['Date'] = pd.to_datetime(df['Date'], errors='coerce')\n",
    "    df['Vendor'] = df['Vendor'].str.lower().str.strip()\n",
    "    df = df[df['Amount'] > 0].dropna()\n",
    "    return df"
   ]
  },
  {
   "cell_type": "code",
   "execution_count": 9,
   "id": "a5d50091-b653-4c82-ae8f-c4b02b5eb2ff",
   "metadata": {},
   "outputs": [
    {
     "name": "stdout",
     "output_type": "stream",
     "text": [
      "Using FAKE data\n"
     ]
    }
   ],
   "source": [
    "if USE_FAKE_DATA:\n",
    "    df = generate_fake_transactions()\n",
    "    print(\"Using FAKE data\")\n",
    "else:\n",
    "    path = r'C:\\Users\\aniru\\OneDrive\\Desktop\\ML tutorial\\AI Financial tracker\\financial_transactions.csv'\n",
    "    df = load_real_transactions(path)\n",
    "    print(\"Using REAL data\")"
   ]
  },
  {
   "cell_type": "code",
   "execution_count": 10,
   "id": "e405d3cd-4835-49ed-9947-6ea496f8d146",
   "metadata": {},
   "outputs": [],
   "source": [
    "# Normalize vendor\n",
    "df['Vendor'] = df['Vendor'].str.lower().str.strip()"
   ]
  },
  {
   "cell_type": "code",
   "execution_count": 11,
   "id": "1bf8891c-2b27-4b76-8668-42383c82612a",
   "metadata": {},
   "outputs": [],
   "source": [
    "# Add features\n",
    "df['Date'] = pd.to_datetime(df['Date'], errors='coerce')\n",
    "df['Month'] = df['Date'].dt.to_period('M')\n",
    "df['Weekday'] = df['Date'].dt.day_name()"
   ]
  },
  {
   "cell_type": "code",
   "execution_count": 12,
   "id": "1d98327f-c901-4386-986f-88f2a82a968e",
   "metadata": {},
   "outputs": [],
   "source": [
    "# Add categories (only if not already present)\n",
    "if 'Category' not in df.columns or df['Category'].isnull().any():\n",
    "    def map_category(vendor):\n",
    "        vendor = str(vendor).lower()\n",
    "        if 'uber' in vendor:\n",
    "            return 'Transport'\n",
    "        elif 'amazon' in vendor:\n",
    "            return 'Shopping'\n",
    "        elif 'walmart' in vendor:\n",
    "            return 'Groceries'\n",
    "        elif 'starbucks' in vendor or 'dominos' in vendor:\n",
    "            return 'Food'\n",
    "        elif 'netflix' in vendor or 'spotify' in vendor:\n",
    "            return 'Entertainment'\n",
    "        else:\n",
    "            return 'Other'\n",
    "    df['Category'] = df['Vendor'].apply(map_category)"
   ]
  },
  {
   "cell_type": "code",
   "execution_count": 13,
   "id": "4a910990-108e-45b5-be46-b5a49c0b9cd5",
   "metadata": {},
   "outputs": [],
   "source": [
    "# Drop any junk\n",
    "df = df[df['Amount'] > 0]  # Filter refunds, zeroes, or fraudulent hopes\n",
    "df.dropna(subset=['Date', 'Vendor', 'Amount'], inplace=True)"
   ]
  },
  {
   "cell_type": "code",
   "execution_count": 14,
   "id": "a554fbe1-45c1-46e0-9500-53f4760d3073",
   "metadata": {},
   "outputs": [],
   "source": [
    "# Standardize vendor names\n",
    "df['Vendor'] = df['Vendor'].str.lower().str.strip()"
   ]
  },
  {
   "cell_type": "code",
   "execution_count": 15,
   "id": "13eda1b2-e9c6-4cb6-8cec-8377f9d9171d",
   "metadata": {},
   "outputs": [],
   "source": [
    "# Add derived time columns\n",
    "df['Month'] = df['Date'].dt.to_period('M')\n",
    "df['Weekday'] = df['Date'].dt.day_name()"
   ]
  },
  {
   "cell_type": "code",
   "execution_count": 16,
   "id": "3a9d5a2a-33cd-4706-bd7f-0cb61f2006b6",
   "metadata": {},
   "outputs": [],
   "source": [
    "def map_category(vendor):\n",
    "    vendor = str(vendor).lower()\n",
    "    if 'uber' in vendor:\n",
    "        return 'Transport'\n",
    "    elif 'amazon' in vendor:\n",
    "        return 'Shopping'\n",
    "    elif 'walmart' in vendor:\n",
    "        return 'Groceries'\n",
    "    elif 'starbucks' in vendor or 'dominos' in vendor:\n",
    "        return 'Food'\n",
    "    elif 'netflix' in vendor or 'spotify' in vendor:\n",
    "        return 'Entertainment'\n",
    "    else:\n",
    "        return 'Other'\n",
    "df['Category'] = df['Vendor'].apply(map_category)"
   ]
  },
  {
   "cell_type": "code",
   "execution_count": 17,
   "id": "0c26d35f-9851-4c9c-b197-b839576ed123",
   "metadata": {},
   "outputs": [
    {
     "name": "stdout",
     "output_type": "stream",
     "text": [
      "        Date   Vendor  Amount       Category\n",
      "0 2025-05-02  walmart   25.17      Groceries\n",
      "1 2025-03-10  walmart  162.11      Groceries\n",
      "2 2025-04-09  spotify  143.51  Entertainment\n",
      "3 2025-04-24     uber  146.34      Transport\n",
      "4 2025-03-31  walmart   60.39      Groceries\n"
     ]
    }
   ],
   "source": [
    "print(df[['Date', 'Vendor', 'Amount', 'Category']].head())"
   ]
  },
  {
   "cell_type": "code",
   "execution_count": 18,
   "id": "83a10361-3c06-4044-ba41-da95d4993d38",
   "metadata": {},
   "outputs": [
    {
     "data": {
      "image/png": "[encoded data removed]",
      "text/plain": [
       "<Figure size 600x600 with 1 Axes>"
      ]
     },
     "metadata": {},
     "output_type": "display_data"
    }
   ],
   "source": [
    "plt.style.use('ggplot')\n",
    "plt.figure(figsize=(6, 6))\n",
    "df.groupby('Category')['Amount'].sum().plot.pie(autopct='%1.1f%%')\n",
    "plt.title('Spending by Category')\n",
    "plt.ylabel('')\n",
    "plt.tight_layout()\n",
    "plt.show()"
   ]
  },
  {
   "cell_type": "code",
   "execution_count": 19,
   "id": "9b21ee01-0678-43f6-acca-d2c2e1432022",
   "metadata": {},
   "outputs": [
    {
     "data": {
      "image/png": "[encoded data removed]",
      "text/plain": [
       "<Figure size 1000x400 with 1 Axes>"
      ]
     },
     "metadata": {},
     "output_type": "display_data"
    }
   ],
   "source": [
    "plt.figure(figsize=(10, 4))\n",
    "daily = df.groupby('Date')['Amount'].sum()\n",
    "daily.plot()\n",
    "plt.title('Daily Spending Trend')\n",
    "plt.ylabel('Amount Spent ($)')\n",
    "plt.xlabel('Date')\n",
    "plt.xticks(rotation=45)\n",
    "plt.tight_layout()\n",
    "plt.show()"
   ]
  },
  {
   "cell_type": "code",
   "execution_count": 20,
   "id": "c3eafe73-eab3-42a5-8f6a-7c12aeede429",
   "metadata": {},
   "outputs": [
    {
     "data": {
      "image/png": "[encoded data removed]",
      "text/plain": [
       "<Figure size 1000x500 with 1 Axes>"
      ]
     },
     "metadata": {},
     "output_type": "display_data"
    }
   ],
   "source": [
    "top_vendors = df.groupby('Vendor')['Amount'].sum().nlargest(10)\n",
    "plt.figure(figsize=(10, 5))\n",
    "sns.barplot(x=top_vendors.values, y=top_vendors.index)\n",
    "plt.title('Top 10 Vendors by Spend')\n",
    "plt.xlabel('Total Spend ($)')\n",
    "plt.tight_layout()\n",
    "plt.show()"
   ]
  },
  {
   "cell_type": "code",
   "execution_count": 21,
   "id": "b68f08f4-f419-40f0-91be-d6e0f83d6a9b",
   "metadata": {},
   "outputs": [],
   "source": [
    "weekday_order = ['Monday', 'Tuesday', 'Wednesday', 'Thursday', 'Friday', 'Saturday', 'Sunday']\n",
    "weekday_spend = df.groupby('Weekday')['Amount'].sum().reindex(weekday_order)"
   ]
  },
  {
   "cell_type": "code",
   "execution_count": 22,
   "id": "3cf34e10-6880-48f3-a4c4-065ad6feb2b0",
   "metadata": {},
   "outputs": [
    {
     "data": {
      "image/png": "[encoded data removed]",
      "text/plain": [
       "<Figure size 800x400 with 1 Axes>"
      ]
     },
     "metadata": {},
     "output_type": "display_data"
    }
   ],
   "source": [
    "plt.figure(figsize=(8, 4))\n",
    "sns.barplot(x=weekday_spend.index, y=weekday_spend.values)\n",
    "plt.title('Spending by Day of the Week')\n",
    "plt.ylabel('Total Spend ($)')\n",
    "plt.tight_layout()\n",
    "plt.show()"
   ]
  },
  {
   "cell_type": "code",
   "execution_count": 23,
   "id": "d77e497f-a1ab-4667-ba8c-798566f447bc",
   "metadata": {},
   "outputs": [],
   "source": [
    "vendor_spend = df.groupby('Vendor')['Amount'].sum().nlargest(10).reset_index()"
   ]
  },
  {
   "cell_type": "code",
   "execution_count": 24,
   "id": "b3752d1a-7112-439f-992e-f91d65541de7",
   "metadata": {},
   "outputs": [],
   "source": [
    "X = vendor_spend[['Amount']]"
   ]
  },
  {
   "cell_type": "code",
   "execution_count": 25,
   "id": "56f8df01-7def-4012-b68f-963f4fe203c6",
   "metadata": {},
   "outputs": [
    {
     "name": "stderr",
     "output_type": "stream",
     "text": [
      "C:\\Anaconda3\\Lib\\site-packages\\sklearn\\cluster\\_kmeans.py:1429: UserWarning: KMeans is known to have a memory leak on Windows with MKL, when there are less chunks than available threads. You can avoid it by setting the environment variable OMP_NUM_THREADS=1.\n",
      "  warnings.warn(\n"
     ]
    }
   ],
   "source": [
    "kmeans = KMeans(n_clusters=3, random_state=42, n_init='auto')\n",
    "vendor_spend['Cluster'] = kmeans.fit_predict(X)"
   ]
  },
  {
   "cell_type": "code",
   "execution_count": 26,
   "id": "90f06161-0cfb-4f67-995c-bedf646e5b93",
   "metadata": {},
   "outputs": [
    {
     "data": {
      "image/png": "[encoded data removed]",
      "text/plain": [
       "<Figure size 1000x500 with 1 Axes>"
      ]
     },
     "metadata": {},
     "output_type": "display_data"
    }
   ],
   "source": [
    "plt.figure(figsize=(10, 5))\n",
    "sns.barplot(data=vendor_spend.sort_values('Cluster'), x='Amount', y='Vendor', hue='Cluster')\n",
    "plt.title('Vendor Spend Clusters')\n",
    "plt.tight_layout()\n",
    "plt.show()"
   ]
  },
  {
   "cell_type": "code",
   "execution_count": 27,
   "id": "24961e54-8ade-45ce-8c9f-d591d99ef2bf",
   "metadata": {},
   "outputs": [],
   "source": [
    "daily_totals = df.groupby(df['Date'].dt.day)['Amount'].sum().clip(upper=1000)\n",
    "daily_totals = daily_totals.reset_index()\n",
    "daily_totals.columns = ['Day', 'Amount']"
   ]
  },
  {
   "cell_type": "code",
   "execution_count": 28,
   "id": "f7845125-ae2c-4763-bb95-59accfb81536",
   "metadata": {},
   "outputs": [
    {
     "data": {
      "text/html": [
       "<style>#sk-container-id-1 {\n",
       "  /* Definition of color scheme common for light and dark mode */\n",
       "  --sklearn-color-text: black;\n",
       "  --sklearn-color-line: gray;\n",
       "  /* Definition of color scheme for unfitted estimators */\n",
       "  --sklearn-color-unfitted-level-0: #fff5e6;\n",
       "  --sklearn-color-unfitted-level-1: #f6e4d2;\n",
       "  --sklearn-color-unfitted-level-2: #ffe0b3;\n",
       "  --sklearn-color-unfitted-level-3: chocolate;\n",
       "  /* Definition of color scheme for fitted estimators */\n",
       "  --sklearn-color-fitted-level-0: #f0f8ff;\n",
       "  --sklearn-color-fitted-level-1: #d4ebff;\n",
       "  --sklearn-color-fitted-level-2: #b3dbfd;\n",
       "  --sklearn-color-fitted-level-3: cornflowerblue;\n",
       "\n",
       "  /* Specific color for light theme */\n",
       "  --sklearn-color-text-on-default-background: var(--sg-text-color, var(--theme-code-foreground, var(--jp-content-font-color1, black)));\n",
       "  --sklearn-color-background: var(--sg-background-color, var(--theme-background, var(--jp-layout-color0, white)));\n",
       "  --sklearn-color-border-box: var(--sg-text-color, var(--theme-code-foreground, var(--jp-content-font-color1, black)));\n",
       "  --sklearn-color-icon: #696969;\n",
       "\n",
       "  @media (prefers-color-scheme: dark) {\n",
       "    /* Redefinition of color scheme for dark theme */\n",
       "    --sklearn-color-text-on-default-background: var(--sg-text-color, var(--theme-code-foreground, var(--jp-content-font-color1, white)));\n",
       "    --sklearn-color-background: var(--sg-background-color, var(--theme-background, var(--jp-layout-color0, #111)));\n",
       "    --sklearn-color-border-box: var(--sg-text-color, var(--theme-code-foreground, var(--jp-content-font-color1, white)));\n",
       "    --sklearn-color-icon: #878787;\n",
       "  }\n",
       "}\n",
       "\n",
       "#sk-container-id-1 {\n",
       "  color: var(--sklearn-color-text);\n",
       "}\n",
       "\n",
       "#sk-container-id-1 pre {\n",
       "  padding: 0;\n",
       "}\n",
       "\n",
       "#sk-container-id-1 input.sk-hidden--visually {\n",
       "  border: 0;\n",
       "  clip: rect(1px 1px 1px 1px);\n",
       "  clip: rect(1px, 1px, 1px, 1px);\n",
       "  height: 1px;\n",
       "  margin: -1px;\n",
       "  overflow: hidden;\n",
       "  padding: 0;\n",
       "  position: absolute;\n",
       "  width: 1px;\n",
       "}\n",
       "\n",
       "#sk-container-id-1 div.sk-dashed-wrapped {\n",
       "  border: 1px dashed var(--sklearn-color-line);\n",
       "  margin: 0 0.4em 0.5em 0.4em;\n",
       "  box-sizing: border-box;\n",
       "  padding-bottom: 0.4em;\n",
       "  background-color: var(--sklearn-color-background);\n",
       "}\n",
       "\n",
       "#sk-container-id-1 div.sk-container {\n",
       "  /* jupyter's `normalize.less` sets `[hidden] { display: none; }`\n",
       "     but bootstrap.min.css set `[hidden] { display: none !important; }`\n",
       "     so we also need the `!important` here to be able to override the\n",
       "     default hidden behavior on the sphinx rendered scikit-learn.org.\n",
       "     See: https://github.com/scikit-learn/scikit-learn/issues/21755 */\n",
       "  display: inline-block !important;\n",
       "  position: relative;\n",
       "}\n",
       "\n",
       "#sk-container-id-1 div.sk-text-repr-fallback {\n",
       "  display: none;\n",
       "}\n",
       "\n",
       "div.sk-parallel-item,\n",
       "div.sk-serial,\n",
       "div.sk-item {\n",
       "  /* draw centered vertical line to link estimators */\n",
       "  background-image: linear-gradient(var(--sklearn-color-text-on-default-background), var(--sklearn-color-text-on-default-background));\n",
       "  background-size: 2px 100%;\n",
       "  background-repeat: no-repeat;\n",
       "  background-position: center center;\n",
       "}\n",
       "\n",
       "/* Parallel-specific style estimator block */\n",
       "\n",
       "#sk-container-id-1 div.sk-parallel-item::after {\n",
       "  content: \"\";\n",
       "  width: 100%;\n",
       "  border-bottom: 2px solid var(--sklearn-color-text-on-default-background);\n",
       "  flex-grow: 1;\n",
       "}\n",
       "\n",
       "#sk-container-id-1 div.sk-parallel {\n",
       "  display: flex;\n",
       "  align-items: stretch;\n",
       "  justify-content: center;\n",
       "  background-color: var(--sklearn-color-background);\n",
       "  position: relative;\n",
       "}\n",
       "\n",
       "#sk-container-id-1 div.sk-parallel-item {\n",
       "  display: flex;\n",
       "  flex-direction: column;\n",
       "}\n",
       "\n",
       "#sk-container-id-1 div.sk-parallel-item:first-child::after {\n",
       "  align-self: flex-end;\n",
       "  width: 50%;\n",
       "}\n",
       "\n",
       "#sk-container-id-1 div.sk-parallel-item:last-child::after {\n",
       "  align-self: flex-start;\n",
       "  width: 50%;\n",
       "}\n",
       "\n",
       "#sk-container-id-1 div.sk-parallel-item:only-child::after {\n",
       "  width: 0;\n",
       "}\n",
       "\n",
       "/* Serial-specific style estimator block */\n",
       "\n",
       "#sk-container-id-1 div.sk-serial {\n",
       "  display: flex;\n",
       "  flex-direction: column;\n",
       "  align-items: center;\n",
       "  background-color: var(--sklearn-color-background);\n",
       "  padding-right: 1em;\n",
       "  padding-left: 1em;\n",
       "}\n",
       "\n",
       "\n",
       "/* Toggleable style: style used for estimator/Pipeline/ColumnTransformer box that is\n",
       "clickable and can be expanded/collapsed.\n",
       "- Pipeline and ColumnTransformer use this feature and define the default style\n",
       "- Estimators will overwrite some part of the style using the `sk-estimator` class\n",
       "*/\n",
       "\n",
       "/* Pipeline and ColumnTransformer style (default) */\n",
       "\n",
       "#sk-container-id-1 div.sk-toggleable {\n",
       "  /* Default theme specific background. It is overwritten whether we have a\n",
       "  specific estimator or a Pipeline/ColumnTransformer */\n",
       "  background-color: var(--sklearn-color-background);\n",
       "}\n",
       "\n",
       "/* Toggleable label */\n",
       "#sk-container-id-1 label.sk-toggleable__label {\n",
       "  cursor: pointer;\n",
       "  display: block;\n",
       "  width: 100%;\n",
       "  margin-bottom: 0;\n",
       "  padding: 0.5em;\n",
       "  box-sizing: border-box;\n",
       "  text-align: center;\n",
       "}\n",
       "\n",
       "#sk-container-id-1 label.sk-toggleable__label-arrow:before {\n",
       "  /* Arrow on the left of the label */\n",
       "  content: \"▸\";\n",
       "  float: left;\n",
       "  margin-right: 0.25em;\n",
       "  color: var(--sklearn-color-icon);\n",
       "}\n",
       "\n",
       "#sk-container-id-1 label.sk-toggleable__label-arrow:hover:before {\n",
       "  color: var(--sklearn-color-text);\n",
       "}\n",
       "\n",
       "/* Toggleable content - dropdown */\n",
       "\n",
       "#sk-container-id-1 div.sk-toggleable__content {\n",
       "  max-height: 0;\n",
       "  max-width: 0;\n",
       "  overflow: hidden;\n",
       "  text-align: left;\n",
       "  /* unfitted */\n",
       "  background-color: var(--sklearn-color-unfitted-level-0);\n",
       "}\n",
       "\n",
       "#sk-container-id-1 div.sk-toggleable__content.fitted {\n",
       "  /* fitted */\n",
       "  background-color: var(--sklearn-color-fitted-level-0);\n",
       "}\n",
       "\n",
       "#sk-container-id-1 div.sk-toggleable__content pre {\n",
       "  margin: 0.2em;\n",
       "  border-radius: 0.25em;\n",
       "  color: var(--sklearn-color-text);\n",
       "  /* unfitted */\n",
       "  background-color: var(--sklearn-color-unfitted-level-0);\n",
       "}\n",
       "\n",
       "#sk-container-id-1 div.sk-toggleable__content.fitted pre {\n",
       "  /* unfitted */\n",
       "  background-color: var(--sklearn-color-fitted-level-0);\n",
       "}\n",
       "\n",
       "#sk-container-id-1 input.sk-toggleable__control:checked~div.sk-toggleable__content {\n",
       "  /* Expand drop-down */\n",
       "  max-height: 200px;\n",
       "  max-width: 100%;\n",
       "  overflow: auto;\n",
       "}\n",
       "\n",
       "#sk-container-id-1 input.sk-toggleable__control:checked~label.sk-toggleable__label-arrow:before {\n",
       "  content: \"▾\";\n",
       "}\n",
       "\n",
       "/* Pipeline/ColumnTransformer-specific style */\n",
       "\n",
       "#sk-container-id-1 div.sk-label input.sk-toggleable__control:checked~label.sk-toggleable__label {\n",
       "  color: var(--sklearn-color-text);\n",
       "  background-color: var(--sklearn-color-unfitted-level-2);\n",
       "}\n",
       "\n",
       "#sk-container-id-1 div.sk-label.fitted input.sk-toggleable__control:checked~label.sk-toggleable__label {\n",
       "  background-color: var(--sklearn-color-fitted-level-2);\n",
       "}\n",
       "\n",
       "/* Estimator-specific style */\n",
       "\n",
       "/* Colorize estimator box */\n",
       "#sk-container-id-1 div.sk-estimator input.sk-toggleable__control:checked~label.sk-toggleable__label {\n",
       "  /* unfitted */\n",
       "  background-color: var(--sklearn-color-unfitted-level-2);\n",
       "}\n",
       "\n",
       "#sk-container-id-1 div.sk-estimator.fitted input.sk-toggleable__control:checked~label.sk-toggleable__label {\n",
       "  /* fitted */\n",
       "  background-color: var(--sklearn-color-fitted-level-2);\n",
       "}\n",
       "\n",
       "#sk-container-id-1 div.sk-label label.sk-toggleable__label,\n",
       "#sk-container-id-1 div.sk-label label {\n",
       "  /* The background is the default theme color */\n",
       "  color: var(--sklearn-color-text-on-default-background);\n",
       "}\n",
       "\n",
       "/* On hover, darken the color of the background */\n",
       "#sk-container-id-1 div.sk-label:hover label.sk-toggleable__label {\n",
       "  color: var(--sklearn-color-text);\n",
       "  background-color: var(--sklearn-color-unfitted-level-2);\n",
       "}\n",
       "\n",
       "/* Label box, darken color on hover, fitted */\n",
       "#sk-container-id-1 div.sk-label.fitted:hover label.sk-toggleable__label.fitted {\n",
       "  color: var(--sklearn-color-text);\n",
       "  background-color: var(--sklearn-color-fitted-level-2);\n",
       "}\n",
       "\n",
       "/* Estimator label */\n",
       "\n",
       "#sk-container-id-1 div.sk-label label {\n",
       "  font-family: monospace;\n",
       "  font-weight: bold;\n",
       "  display: inline-block;\n",
       "  line-height: 1.2em;\n",
       "}\n",
       "\n",
       "#sk-container-id-1 div.sk-label-container {\n",
       "  text-align: center;\n",
       "}\n",
       "\n",
       "/* Estimator-specific */\n",
       "#sk-container-id-1 div.sk-estimator {\n",
       "  font-family: monospace;\n",
       "  border: 1px dotted var(--sklearn-color-border-box);\n",
       "  border-radius: 0.25em;\n",
       "  box-sizing: border-box;\n",
       "  margin-bottom: 0.5em;\n",
       "  /* unfitted */\n",
       "  background-color: var(--sklearn-color-unfitted-level-0);\n",
       "}\n",
       "\n",
       "#sk-container-id-1 div.sk-estimator.fitted {\n",
       "  /* fitted */\n",
       "  background-color: var(--sklearn-color-fitted-level-0);\n",
       "}\n",
       "\n",
       "/* on hover */\n",
       "#sk-container-id-1 div.sk-estimator:hover {\n",
       "  /* unfitted */\n",
       "  background-color: var(--sklearn-color-unfitted-level-2);\n",
       "}\n",
       "\n",
       "#sk-container-id-1 div.sk-estimator.fitted:hover {\n",
       "  /* fitted */\n",
       "  background-color: var(--sklearn-color-fitted-level-2);\n",
       "}\n",
       "\n",
       "/* Specification for estimator info (e.g. \"i\" and \"?\") */\n",
       "\n",
       "/* Common style for \"i\" and \"?\" */\n",
       "\n",
       ".sk-estimator-doc-link,\n",
       "a:link.sk-estimator-doc-link,\n",
       "a:visited.sk-estimator-doc-link {\n",
       "  float: right;\n",
       "  font-size: smaller;\n",
       "  line-height: 1em;\n",
       "  font-family: monospace;\n",
       "  background-color: var(--sklearn-color-background);\n",
       "  border-radius: 1em;\n",
       "  height: 1em;\n",
       "  width: 1em;\n",
       "  text-decoration: none !important;\n",
       "  margin-left: 1ex;\n",
       "  /* unfitted */\n",
       "  border: var(--sklearn-color-unfitted-level-1) 1pt solid;\n",
       "  color: var(--sklearn-color-unfitted-level-1);\n",
       "}\n",
       "\n",
       ".sk-estimator-doc-link.fitted,\n",
       "a:link.sk-estimator-doc-link.fitted,\n",
       "a:visited.sk-estimator-doc-link.fitted {\n",
       "  /* fitted */\n",
       "  border: var(--sklearn-color-fitted-level-1) 1pt solid;\n",
       "  color: var(--sklearn-color-fitted-level-1);\n",
       "}\n",
       "\n",
       "/* On hover */\n",
       "div.sk-estimator:hover .sk-estimator-doc-link:hover,\n",
       ".sk-estimator-doc-link:hover,\n",
       "div.sk-label-container:hover .sk-estimator-doc-link:hover,\n",
       ".sk-estimator-doc-link:hover {\n",
       "  /* unfitted */\n",
       "  background-color: var(--sklearn-color-unfitted-level-3);\n",
       "  color: var(--sklearn-color-background);\n",
       "  text-decoration: none;\n",
       "}\n",
       "\n",
       "div.sk-estimator.fitted:hover .sk-estimator-doc-link.fitted:hover,\n",
       ".sk-estimator-doc-link.fitted:hover,\n",
       "div.sk-label-container:hover .sk-estimator-doc-link.fitted:hover,\n",
       ".sk-estimator-doc-link.fitted:hover {\n",
       "  /* fitted */\n",
       "  background-color: var(--sklearn-color-fitted-level-3);\n",
       "  color: var(--sklearn-color-background);\n",
       "  text-decoration: none;\n",
       "}\n",
       "\n",
       "/* Span, style for the box shown on hovering the info icon */\n",
       ".sk-estimator-doc-link span {\n",
       "  display: none;\n",
       "  z-index: 9999;\n",
       "  position: relative;\n",
       "  font-weight: normal;\n",
       "  right: .2ex;\n",
       "  padding: .5ex;\n",
       "  margin: .5ex;\n",
       "  width: min-content;\n",
       "  min-width: 20ex;\n",
       "  max-width: 50ex;\n",
       "  color: var(--sklearn-color-text);\n",
       "  box-shadow: 2pt 2pt 4pt #999;\n",
       "  /* unfitted */\n",
       "  background: var(--sklearn-color-unfitted-level-0);\n",
       "  border: .5pt solid var(--sklearn-color-unfitted-level-3);\n",
       "}\n",
       "\n",
       ".sk-estimator-doc-link.fitted span {\n",
       "  /* fitted */\n",
       "  background: var(--sklearn-color-fitted-level-0);\n",
       "  border: var(--sklearn-color-fitted-level-3);\n",
       "}\n",
       "\n",
       ".sk-estimator-doc-link:hover span {\n",
       "  display: block;\n",
       "}\n",
       "\n",
       "/* \"?\"-specific style due to the `<a>` HTML tag */\n",
       "\n",
       "#sk-container-id-1 a.estimator_doc_link {\n",
       "  float: right;\n",
       "  font-size: 1rem;\n",
       "  line-height: 1em;\n",
       "  font-family: monospace;\n",
       "  background-color: var(--sklearn-color-background);\n",
       "  border-radius: 1rem;\n",
       "  height: 1rem;\n",
       "  width: 1rem;\n",
       "  text-decoration: none;\n",
       "  /* unfitted */\n",
       "  color: var(--sklearn-color-unfitted-level-1);\n",
       "  border: var(--sklearn-color-unfitted-level-1) 1pt solid;\n",
       "}\n",
       "\n",
       "#sk-container-id-1 a.estimator_doc_link.fitted {\n",
       "  /* fitted */\n",
       "  border: var(--sklearn-color-fitted-level-1) 1pt solid;\n",
       "  color: var(--sklearn-color-fitted-level-1);\n",
       "}\n",
       "\n",
       "/* On hover */\n",
       "#sk-container-id-1 a.estimator_doc_link:hover {\n",
       "  /* unfitted */\n",
       "  background-color: var(--sklearn-color-unfitted-level-3);\n",
       "  color: var(--sklearn-color-background);\n",
       "  text-decoration: none;\n",
       "}\n",
       "\n",
       "#sk-container-id-1 a.estimator_doc_link.fitted:hover {\n",
       "  /* fitted */\n",
       "  background-color: var(--sklearn-color-fitted-level-3);\n",
       "}\n",
       "</style><div id=\"sk-container-id-1\" class=\"sk-top-container\"><div class=\"sk-text-repr-fallback\"><pre>LinearRegression()</pre><b>In a Jupyter environment, please rerun this cell to show the HTML representation or trust the notebook. <br />On GitHub, the HTML representation is unable to render, please try loading this page with nbviewer.org.</b></div><div class=\"sk-container\" hidden><div class=\"sk-item\"><div class=\"sk-estimator fitted sk-toggleable\"><input class=\"sk-toggleable__control sk-hidden--visually\" id=\"sk-estimator-id-1\" type=\"checkbox\" checked><label for=\"sk-estimator-id-1\" class=\"sk-toggleable__label fitted sk-toggleable__label-arrow fitted\">&nbsp;&nbsp;LinearRegression<a class=\"sk-estimator-doc-link fitted\" rel=\"noreferrer\" target=\"_blank\" href=\"https://scikit-learn.org/1.5/modules/generated/sklearn.linear_model.LinearRegression.html\">?<span>Documentation for LinearRegression</span></a><span class=\"sk-estimator-doc-link fitted\">i<span>Fitted</span></span></label><div class=\"sk-toggleable__content fitted\"><pre>LinearRegression()</pre></div> </div></div></div></div>"
      ],
      "text/plain": [
       "LinearRegression()"
      ]
     },
     "execution_count": 28,
     "metadata": {},
     "output_type": "execute_result"
    }
   ],
   "source": [
    "X = daily_totals[['Day']]\n",
    "y = daily_totals['Amount']\n",
    "model = LinearRegression()\n",
    "model.fit(X, y)"
   ]
  },
  {
   "cell_type": "code",
   "execution_count": 29,
   "id": "78d271c4-a7cd-4eb7-a843-478d91bdaf47",
   "metadata": {},
   "outputs": [
    {
     "name": "stdout",
     "output_type": "stream",
     "text": [
      "Predicted spending on Day 30: $384.34\n"
     ]
    }
   ],
   "source": [
    "predicted_day_30 = model.predict(pd.DataFrame({'Day': [30]}))[0]\n",
    "print(f\"Predicted spending on Day 30: ${predicted_day_30:.2f}\")"
   ]
  },
  {
   "cell_type": "code",
   "execution_count": 30,
   "id": "1eeb84f5-acbe-4e61-9242-e8338e16db57",
   "metadata": {},
   "outputs": [],
   "source": [
    "spending_summary = \"\\n\".join([\n",
    "    f\"{category}: ${amount:.2f}\"\n",
    "    for category, amount in df.groupby('Category')['Amount'].sum().items()\n",
    "])"
   ]
  },
  {
   "cell_type": "code",
   "execution_count": 31,
   "id": "4c6e2eb6-cac3-4880-aa10-8073ceb12f3d",
   "metadata": {},
   "outputs": [],
   "source": [
    "template = PromptTemplate(\n",
    "    input_variables=[\"summary\"],\n",
    "    template=(\n",
    "        \"You are a financial assistant. Based on the user's spending summary below, \"\n",
    "        \"suggest 3 specific and realistic ways to save money:\\n\\n{summary}\"\n",
    "    )\n",
    ")\n",
    "prompt = template.format(summary=spending_summary)"
   ]
  },
  {
   "cell_type": "code",
   "execution_count": 32,
   "id": "cdbfe430-f085-47c6-92f0-1b9343307a90",
   "metadata": {},
   "outputs": [],
   "source": [
    "# Use flan-t5-small (lightweight and CPU-friendly)\n",
    "model_name = \"google/flan-t5-small\"\n",
    "tokenizer = AutoTokenizer.from_pretrained(model_name)\n",
    "model = AutoModelForSeq2SeqLM.from_pretrained(model_name)"
   ]
  },
  {
   "cell_type": "code",
   "execution_count": 33,
   "id": "f82c6c55-925a-4d75-8509-aa1f24fcea93",
   "metadata": {},
   "outputs": [
    {
     "name": "stderr",
     "output_type": "stream",
     "text": [
      "Device set to use cpu\n"
     ]
    }
   ],
   "source": [
    "# Create HuggingFace pipeline\n",
    "hf_pipeline = pipeline(\n",
    "    \"text2text-generation\",\n",
    "    model=model,\n",
    "    tokenizer=tokenizer,\n",
    "    max_length=100,\n",
    "    temperature=0.5\n",
    ")"
   ]
  },
  {
   "cell_type": "code",
   "execution_count": 34,
   "id": "56b3bdcc-17c8-48a3-82f9-c91116eccb68",
   "metadata": {},
   "outputs": [
    {
     "name": "stderr",
     "output_type": "stream",
     "text": [
      "C:\\Users\\aniru\\AppData\\Local\\Temp\\ipykernel_10224\\1411109893.py:2: LangChainDeprecationWarning: The class `HuggingFacePipeline` was deprecated in LangChain 0.0.37 and will be removed in 1.0. An updated version of the class exists in the :class:`~langchain-huggingface package and should be used instead. To use it run `pip install -U :class:`~langchain-huggingface` and import as `from :class:`~langchain_huggingface import HuggingFacePipeline``.\n",
      "  llm = HuggingFacePipeline(pipeline=hf_pipeline)\n"
     ]
    }
   ],
   "source": [
    "# Wrap with LangChain\n",
    "llm = HuggingFacePipeline(pipeline=hf_pipeline)"
   ]
  },
  {
   "cell_type": "code",
   "execution_count": 35,
   "id": "3779c804-9235-4943-ac76-cd4a2e18c16b",
   "metadata": {},
   "outputs": [
    {
     "name": "stderr",
     "output_type": "stream",
     "text": [
      "C:\\Users\\aniru\\AppData\\Local\\Temp\\ipykernel_10224\\2134466579.py:1: LangChainDeprecationWarning: The method `BaseLLM.__call__` was deprecated in langchain-core 0.1.7 and will be removed in 1.0. Use :meth:`~invoke` instead.\n",
      "  advice = llm(prompt)\n",
      "C:\\Anaconda3\\Lib\\site-packages\\transformers\\generation\\configuration_utils.py:631: UserWarning: `do_sample` is set to `False`. However, `temperature` is set to `0.5` -- this flag is only used in sample-based generation modes. You should set `do_sample=True` or unset `temperature`.\n",
      "  warnings.warn(\n"
     ]
    },
    {
     "name": "stdout",
     "output_type": "stream",
     "text": [
      "RoboBudget says:\n",
      "\n",
      "Money saved by buying a car, a car, or a car.\n"
     ]
    }
   ],
   "source": [
    "advice = llm(prompt)\n",
    "print(\"RoboBudget says:\\n\")\n",
    "print(advice)"
   ]
  },
  {
   "cell_type": "code",
   "execution_count": 36,
   "id": "f0df6a0f-4354-487f-b3c1-10f41d0ccb43",
   "metadata": {},
   "outputs": [],
   "source": [
    "def export_to_csv(df, advice_text, forecast_amount, path=\"export/\"):\n",
    "    os.makedirs(path, exist_ok=True)\n",
    "    now = datetime.now().strftime(\"%Y-%m-%d_%H-%M\")\n",
    "    df.to_csv(f\"{path}transactions_{now}.csv\", index=False)\n",
    "    with open(f\"{path}ai_advice_{now}.txt\", \"w\") as f:\n",
    "        f.write(f\"Predicted Spend on Day 30: ${forecast_amount:.2f}\\n\\n\")\n",
    "        f.write(\"RoboBudget Advice:\\n\")\n",
    "        f.write(advice_text.strip())\n",
    "    print(f\"✅ Exported CSV and Advice to {path}\")"
   ]
  },
  {
   "cell_type": "code",
   "execution_count": 37,
   "id": "9b879c4c-726c-43e6-8564-759dd968f787",
   "metadata": {},
   "outputs": [],
   "source": [
    "def export_to_pdf(df, advice_text, forecast_amount, path=\"export/\"):\n",
    "    os.makedirs(path, exist_ok=True)\n",
    "    now = datetime.now().strftime(\"%Y-%m-%d_%H-%M\")\n",
    "    filename = f\"{path}report_{now}.pdf\"\n",
    "    pdf = FPDF()\n",
    "    pdf.add_page()\n",
    "    pdf.set_font(\"Arial\", size=12)\n",
    "    pdf.cell(200, 10, txt=\"RoboBudget Summary Report\", ln=True, align='C')\n",
    "    pdf.ln(10)\n",
    "    pdf.cell(200, 10, txt=f\"Generated: {now}\", ln=True)\n",
    "    pdf.ln(10)\n",
    "    pdf.multi_cell(0, 10, f\"Predicted Spend on Day 30: ${forecast_amount:.2f}\")\n",
    "    pdf.ln(5)\n",
    "    pdf.multi_cell(0, 10, \"RoboBudget Advice:\\n\" + advice_text.strip())\n",
    "    pdf.ln(10)\n",
    "    pdf.multi_cell(0, 10, \"Spending by Category:\\n\")\n",
    "    cat_summary = df.groupby('Category')['Amount'].sum()\n",
    "    for cat, amt in cat_summary.items():\n",
    "        pdf.cell(200, 10, txt=f\"{cat}: ${amt:.2f}\", ln=True)\n",
    "    pdf.output(filename)\n",
    "    print(f\"PDF exported to {filename}\")"
   ]
  },
  {
   "cell_type": "code",
   "execution_count": 38,
   "id": "c9a11672-36f8-41be-9c43-4638ca0ea32d",
   "metadata": {},
   "outputs": [
    {
     "name": "stdout",
     "output_type": "stream",
     "text": [
      "✅ Exported CSV and Advice to export/\n",
      "PDF exported to export/report_2025-05-05_15-59.pdf\n"
     ]
    },
    {
     "name": "stderr",
     "output_type": "stream",
     "text": [
      "C:\\Users\\aniru\\AppData\\Local\\Temp\\ipykernel_10224\\599672484.py:7: DeprecationWarning: Substituting font arial by core font helvetica - This is deprecated since v2.7.8, and will soon be removed\n",
      "  pdf.set_font(\"Arial\", size=12)\n",
      "C:\\Users\\aniru\\AppData\\Local\\Temp\\ipykernel_10224\\599672484.py:8: DeprecationWarning: The parameter \"txt\" has been renamed to \"text\" in 2.7.6\n",
      "  pdf.cell(200, 10, txt=\"RoboBudget Summary Report\", ln=True, align='C')\n",
      "C:\\Users\\aniru\\AppData\\Local\\Temp\\ipykernel_10224\\599672484.py:8: DeprecationWarning: The parameter \"ln\" is deprecated since v2.5.2. Instead of ln=True use new_x=XPos.LMARGIN, new_y=YPos.NEXT.\n",
      "  pdf.cell(200, 10, txt=\"RoboBudget Summary Report\", ln=True, align='C')\n",
      "C:\\Users\\aniru\\AppData\\Local\\Temp\\ipykernel_10224\\599672484.py:10: DeprecationWarning: The parameter \"txt\" has been renamed to \"text\" in 2.7.6\n",
      "  pdf.cell(200, 10, txt=f\"Generated: {now}\", ln=True)\n",
      "C:\\Users\\aniru\\AppData\\Local\\Temp\\ipykernel_10224\\599672484.py:10: DeprecationWarning: The parameter \"ln\" is deprecated since v2.5.2. Instead of ln=True use new_x=XPos.LMARGIN, new_y=YPos.NEXT.\n",
      "  pdf.cell(200, 10, txt=f\"Generated: {now}\", ln=True)\n",
      "C:\\Users\\aniru\\AppData\\Local\\Temp\\ipykernel_10224\\599672484.py:19: DeprecationWarning: The parameter \"txt\" has been renamed to \"text\" in 2.7.6\n",
      "  pdf.cell(200, 10, txt=f\"{cat}: ${amt:.2f}\", ln=True)\n",
      "C:\\Users\\aniru\\AppData\\Local\\Temp\\ipykernel_10224\\599672484.py:19: DeprecationWarning: The parameter \"ln\" is deprecated since v2.5.2. Instead of ln=True use new_x=XPos.LMARGIN, new_y=YPos.NEXT.\n",
      "  pdf.cell(200, 10, txt=f\"{cat}: ${amt:.2f}\", ln=True)\n"
     ]
    }
   ],
   "source": [
    "export_to_csv(df, str(advice), predicted_day_30)\n",
    "export_to_pdf(df, str(advice), predicted_day_30)"
   ]
  },
  {
   "cell_type": "code",
   "execution_count": 39,
   "id": "18c0e4e9-f75e-4cdf-8131-183c2b00ff79",
   "metadata": {},
   "outputs": [
    {
     "name": "stdout",
     "output_type": "stream",
     "text": [
      "Requirement already satisfied: langchain in c:\\anaconda3\\lib\\site-packages (0.3.24)\n",
      "Requirement already satisfied: langchain-community in c:\\anaconda3\\lib\\site-packages (0.3.23)\n",
      "Requirement already satisfied: langchain-experimental in c:\\anaconda3\\lib\\site-packages (0.3.4)\n",
      "Requirement already satisfied: langchain-huggingface in c:\\anaconda3\\lib\\site-packages (0.1.2)\n",
      "Requirement already satisfied: langchain-core<1.0.0,>=0.3.55 in c:\\anaconda3\\lib\\site-packages (from langchain) (0.3.56)\n",
      "Requirement already satisfied: langchain-text-splitters<1.0.0,>=0.3.8 in c:\\anaconda3\\lib\\site-packages (from langchain) (0.3.8)\n",
      "Requirement already satisfied: langsmith<0.4,>=0.1.17 in c:\\anaconda3\\lib\\site-packages (from langchain) (0.3.38)\n",
      "Requirement already satisfied: pydantic<3.0.0,>=2.7.4 in c:\\anaconda3\\lib\\site-packages (from langchain) (2.8.2)\n",
      "Requirement already satisfied: SQLAlchemy<3,>=1.4 in c:\\anaconda3\\lib\\site-packages (from langchain) (2.0.34)\n",
      "Requirement already satisfied: requests<3,>=2 in c:\\anaconda3\\lib\\site-packages (from langchain) (2.32.3)\n",
      "Requirement already satisfied: PyYAML>=5.3 in c:\\anaconda3\\lib\\site-packages (from langchain) (6.0.1)\n",
      "Requirement already satisfied: aiohttp<4.0.0,>=3.8.3 in c:\\anaconda3\\lib\\site-packages (from langchain-community) (3.10.5)\n",
      "Requirement already satisfied: tenacity!=8.4.0,<10,>=8.1.0 in c:\\anaconda3\\lib\\site-packages (from langchain-community) (8.2.3)\n",
      "Requirement already satisfied: dataclasses-json<0.7,>=0.5.7 in c:\\anaconda3\\lib\\site-packages (from langchain-community) (0.6.7)\n",
      "Requirement already satisfied: pydantic-settings<3.0.0,>=2.4.0 in c:\\anaconda3\\lib\\site-packages (from langchain-community) (2.6.1)\n",
      "Requirement already satisfied: httpx-sse<1.0.0,>=0.4.0 in c:\\anaconda3\\lib\\site-packages (from langchain-community) (0.4.0)\n",
      "Requirement already satisfied: numpy>=1.26.2 in c:\\anaconda3\\lib\\site-packages (from langchain-community) (1.26.4)\n",
      "Requirement already satisfied: huggingface-hub>=0.23.0 in c:\\anaconda3\\lib\\site-packages (from langchain-huggingface) (0.30.2)\n",
      "Requirement already satisfied: sentence-transformers>=2.6.0 in c:\\anaconda3\\lib\\site-packages (from langchain-huggingface) (4.1.0)\n",
      "Requirement already satisfied: tokenizers>=0.19.1 in c:\\anaconda3\\lib\\site-packages (from langchain-huggingface) (0.21.1)\n",
      "Requirement already satisfied: transformers>=4.39.0 in c:\\anaconda3\\lib\\site-packages (from langchain-huggingface) (4.51.3)\n",
      "Requirement already satisfied: aiohappyeyeballs>=2.3.0 in c:\\anaconda3\\lib\\site-packages (from aiohttp<4.0.0,>=3.8.3->langchain-community) (2.4.0)\n",
      "Requirement already satisfied: aiosignal>=1.1.2 in c:\\anaconda3\\lib\\site-packages (from aiohttp<4.0.0,>=3.8.3->langchain-community) (1.2.0)\n",
      "Requirement already satisfied: attrs>=17.3.0 in c:\\anaconda3\\lib\\site-packages (from aiohttp<4.0.0,>=3.8.3->langchain-community) (23.1.0)\n",
      "Requirement already satisfied: frozenlist>=1.1.1 in c:\\anaconda3\\lib\\site-packages (from aiohttp<4.0.0,>=3.8.3->langchain-community) (1.4.0)\n",
      "Requirement already satisfied: multidict<7.0,>=4.5 in c:\\anaconda3\\lib\\site-packages (from aiohttp<4.0.0,>=3.8.3->langchain-community) (6.0.4)\n",
      "Requirement already satisfied: yarl<2.0,>=1.0 in c:\\anaconda3\\lib\\site-packages (from aiohttp<4.0.0,>=3.8.3->langchain-community) (1.11.0)\n",
      "Requirement already satisfied: marshmallow<4.0.0,>=3.18.0 in c:\\anaconda3\\lib\\site-packages (from dataclasses-json<0.7,>=0.5.7->langchain-community) (3.26.1)\n",
      "Requirement already satisfied: typing-inspect<1,>=0.4.0 in c:\\anaconda3\\lib\\site-packages (from dataclasses-json<0.7,>=0.5.7->langchain-community) (0.9.0)\n",
      "Requirement already satisfied: filelock in c:\\anaconda3\\lib\\site-packages (from huggingface-hub>=0.23.0->langchain-huggingface) (3.13.1)\n",
      "Requirement already satisfied: fsspec>=2023.5.0 in c:\\anaconda3\\lib\\site-packages (from huggingface-hub>=0.23.0->langchain-huggingface) (2024.6.1)\n",
      "Requirement already satisfied: packaging>=20.9 in c:\\anaconda3\\lib\\site-packages (from huggingface-hub>=0.23.0->langchain-huggingface) (24.1)\n",
      "Requirement already satisfied: tqdm>=4.42.1 in c:\\anaconda3\\lib\\site-packages (from huggingface-hub>=0.23.0->langchain-huggingface) (4.66.5)\n",
      "Requirement already satisfied: typing-extensions>=3.7.4.3 in c:\\anaconda3\\lib\\site-packages (from huggingface-hub>=0.23.0->langchain-huggingface) (4.11.0)\n",
      "Requirement already satisfied: jsonpatch<2.0,>=1.33 in c:\\anaconda3\\lib\\site-packages (from langchain-core<1.0.0,>=0.3.55->langchain) (1.33)\n",
      "Requirement already satisfied: httpx<1,>=0.23.0 in c:\\anaconda3\\lib\\site-packages (from langsmith<0.4,>=0.1.17->langchain) (0.27.0)\n",
      "Requirement already satisfied: orjson<4.0.0,>=3.9.14 in c:\\anaconda3\\lib\\site-packages (from langsmith<0.4,>=0.1.17->langchain) (3.10.17)\n",
      "Requirement already satisfied: requests-toolbelt<2.0.0,>=1.0.0 in c:\\anaconda3\\lib\\site-packages (from langsmith<0.4,>=0.1.17->langchain) (1.0.0)\n",
      "Requirement already satisfied: zstandard<0.24.0,>=0.23.0 in c:\\anaconda3\\lib\\site-packages (from langsmith<0.4,>=0.1.17->langchain) (0.23.0)\n",
      "Requirement already satisfied: annotated-types>=0.4.0 in c:\\anaconda3\\lib\\site-packages (from pydantic<3.0.0,>=2.7.4->langchain) (0.6.0)\n",
      "Requirement already satisfied: pydantic-core==2.20.1 in c:\\anaconda3\\lib\\site-packages (from pydantic<3.0.0,>=2.7.4->langchain) (2.20.1)\n",
      "Requirement already satisfied: python-dotenv>=0.21.0 in c:\\anaconda3\\lib\\site-packages (from pydantic-settings<3.0.0,>=2.4.0->langchain-community) (0.21.0)\n",
      "Requirement already satisfied: charset-normalizer<4,>=2 in c:\\anaconda3\\lib\\site-packages (from requests<3,>=2->langchain) (3.3.2)\n",
      "Requirement already satisfied: idna<4,>=2.5 in c:\\anaconda3\\lib\\site-packages (from requests<3,>=2->langchain) (3.7)\n",
      "Requirement already satisfied: urllib3<3,>=1.21.1 in c:\\anaconda3\\lib\\site-packages (from requests<3,>=2->langchain) (2.2.3)\n",
      "Requirement already satisfied: certifi>=2017.4.17 in c:\\anaconda3\\lib\\site-packages (from requests<3,>=2->langchain) (2025.1.31)\n",
      "Requirement already satisfied: torch>=1.11.0 in c:\\anaconda3\\lib\\site-packages (from sentence-transformers>=2.6.0->langchain-huggingface) (2.6.0)\n",
      "Requirement already satisfied: scikit-learn in c:\\anaconda3\\lib\\site-packages (from sentence-transformers>=2.6.0->langchain-huggingface) (1.5.1)\n",
      "Requirement already satisfied: scipy in c:\\anaconda3\\lib\\site-packages (from sentence-transformers>=2.6.0->langchain-huggingface) (1.13.1)\n",
      "Requirement already satisfied: Pillow in c:\\anaconda3\\lib\\site-packages (from sentence-transformers>=2.6.0->langchain-huggingface) (10.4.0)\n",
      "Requirement already satisfied: greenlet!=0.4.17 in c:\\anaconda3\\lib\\site-packages (from SQLAlchemy<3,>=1.4->langchain) (3.0.1)\n",
      "Requirement already satisfied: regex!=2019.12.17 in c:\\anaconda3\\lib\\site-packages (from transformers>=4.39.0->langchain-huggingface) (2024.9.11)\n",
      "Requirement already satisfied: safetensors>=0.4.3 in c:\\anaconda3\\lib\\site-packages (from transformers>=4.39.0->langchain-huggingface) (0.5.3)\n",
      "Requirement already satisfied: anyio in c:\\anaconda3\\lib\\site-packages (from httpx<1,>=0.23.0->langsmith<0.4,>=0.1.17->langchain) (4.2.0)\n",
      "Requirement already satisfied: httpcore==1.* in c:\\anaconda3\\lib\\site-packages (from httpx<1,>=0.23.0->langsmith<0.4,>=0.1.17->langchain) (1.0.2)\n",
      "Requirement already satisfied: sniffio in c:\\anaconda3\\lib\\site-packages (from httpx<1,>=0.23.0->langsmith<0.4,>=0.1.17->langchain) (1.3.0)\n",
      "Requirement already satisfied: h11<0.15,>=0.13 in c:\\anaconda3\\lib\\site-packages (from httpcore==1.*->httpx<1,>=0.23.0->langsmith<0.4,>=0.1.17->langchain) (0.14.0)\n",
      "Requirement already satisfied: jsonpointer>=1.9 in c:\\anaconda3\\lib\\site-packages (from jsonpatch<2.0,>=1.33->langchain-core<1.0.0,>=0.3.55->langchain) (2.1)\n",
      "Requirement already satisfied: networkx in c:\\anaconda3\\lib\\site-packages (from torch>=1.11.0->sentence-transformers>=2.6.0->langchain-huggingface) (3.3)\n",
      "Requirement already satisfied: jinja2 in c:\\anaconda3\\lib\\site-packages (from torch>=1.11.0->sentence-transformers>=2.6.0->langchain-huggingface) (3.1.4)\n",
      "Requirement already satisfied: setuptools in c:\\anaconda3\\lib\\site-packages (from torch>=1.11.0->sentence-transformers>=2.6.0->langchain-huggingface) (75.1.0)\n",
      "Requirement already satisfied: sympy==1.13.1 in c:\\anaconda3\\lib\\site-packages (from torch>=1.11.0->sentence-transformers>=2.6.0->langchain-huggingface) (1.13.1)\n",
      "Requirement already satisfied: mpmath<1.4,>=1.1.0 in c:\\anaconda3\\lib\\site-packages (from sympy==1.13.1->torch>=1.11.0->sentence-transformers>=2.6.0->langchain-huggingface) (1.3.0)\n",
      "Requirement already satisfied: colorama in c:\\anaconda3\\lib\\site-packages (from tqdm>=4.42.1->huggingface-hub>=0.23.0->langchain-huggingface) (0.4.6)\n",
      "Requirement already satisfied: mypy-extensions>=0.3.0 in c:\\anaconda3\\lib\\site-packages (from typing-inspect<1,>=0.4.0->dataclasses-json<0.7,>=0.5.7->langchain-community) (1.0.0)\n",
      "Requirement already satisfied: joblib>=1.2.0 in c:\\anaconda3\\lib\\site-packages (from scikit-learn->sentence-transformers>=2.6.0->langchain-huggingface) (1.4.2)\n",
      "Requirement already satisfied: threadpoolctl>=3.1.0 in c:\\anaconda3\\lib\\site-packages (from scikit-learn->sentence-transformers>=2.6.0->langchain-huggingface) (3.5.0)\n",
      "Requirement already satisfied: MarkupSafe>=2.0 in c:\\anaconda3\\lib\\site-packages (from jinja2->torch>=1.11.0->sentence-transformers>=2.6.0->langchain-huggingface) (2.1.3)\n"
     ]
    }
   ],
   "source": [
    "!pip install langchain langchain-community langchain-experimental langchain-huggingface"
   ]
  },
  {
   "cell_type": "code",
   "execution_count": 40,
   "id": "ac782b1d-b5aa-4551-b318-bbf0ff5f2013",
   "metadata": {},
   "outputs": [],
   "source": [
    "from langchain_experimental.agents import create_pandas_dataframe_agent\n",
    "from langchain.agents.agent_types import AgentType"
   ]
  },
  {
   "cell_type": "code",
   "execution_count": 41,
   "id": "47b6c5ff-f7a5-473a-b2df-cf4c32324a73",
   "metadata": {},
   "outputs": [
    {
     "name": "stderr",
     "output_type": "stream",
     "text": [
      "C:\\Anaconda3\\Lib\\site-packages\\langchain_experimental\\agents\\agent_toolkits\\pandas\\base.py:283: UserWarning: Received additional kwargs {'handle_parsing_errors': True} which are no longer supported.\n",
      "  warnings.warn(\n"
     ]
    }
   ],
   "source": [
    "agent = create_pandas_dataframe_agent(\n",
    "    llm=llm,\n",
    "    df=df,\n",
    "    agent_type=AgentType.ZERO_SHOT_REACT_DESCRIPTION,\n",
    "    verbose=True,\n",
    "    handle_parsing_errors=True,\n",
    "    allow_dangerous_code=True  # optional: allows eval-type responses\n",
    ")"
   ]
  },
  {
   "cell_type": "code",
   "execution_count": 42,
   "id": "c35195c5-817e-4f9d-8bc6-4efd7b309a85",
   "metadata": {},
   "outputs": [
    {
     "name": "stdout",
     "output_type": "stream",
     "text": [
      "1529.44\n"
     ]
    }
   ],
   "source": [
    "def fallback_query(df, question):\n",
    "    question = question.lower()\n",
    "    if \"groceries\" in question and \"last month\" in question:\n",
    "        last_month = pd.Timestamp.now().to_period(\"M\") - 1\n",
    "        return df[(df['Category'] == 'Groceries') & (df['Month'] == last_month)]['Amount'].sum()\n",
    "    elif \"top vendor\" in question:\n",
    "        return df.groupby('Vendor')['Amount'].sum().idxmax()\n",
    "    else:\n",
    "        return \"I don't know how to answer that yet, human.\"\n",
    "print(fallback_query(df, \"How much did I spend on groceries last month?\"))"
   ]
  },
  {
   "cell_type": "code",
   "execution_count": 43,
   "id": "c61c3b68-5a13-4b53-9b24-2aa847bf533b",
   "metadata": {},
   "outputs": [],
   "source": [
    "recurring = (\n",
    "    df.groupby(['Vendor', 'Amount'])\n",
    "    .size()\n",
    "    .reset_index(name='Frequency')\n",
    "    .sort_values('Frequency', ascending=False)\n",
    ")"
   ]
  },
  {
   "cell_type": "code",
   "execution_count": 44,
   "id": "8b81d7b8-a967-4c48-9b44-3bda9698f8bd",
   "metadata": {},
   "outputs": [
    {
     "name": "stdout",
     "output_type": "stream",
     "text": [
      "Recurring Expenses:\n",
      "Empty DataFrame\n",
      "Columns: [Vendor, Amount, Frequency]\n",
      "Index: []\n"
     ]
    }
   ],
   "source": [
    "# Only keep things that occur frequently\n",
    "recurring = recurring[recurring['Frequency'] >= 3]\n",
    "print(\"Recurring Expenses:\")\n",
    "print(recurring)"
   ]
  },
  {
   "cell_type": "code",
   "execution_count": 45,
   "id": "fd4564c6-edd0-4ba5-adc1-132285ea4a1f",
   "metadata": {},
   "outputs": [
    {
     "name": "stderr",
     "output_type": "stream",
     "text": [
      "Device set to use cpu\n"
     ]
    }
   ],
   "source": [
    "model_name = \"google/flan-t5-small\"\n",
    "tokenizer = AutoTokenizer.from_pretrained(model_name)\n",
    "model = AutoModelForSeq2SeqLM.from_pretrained(model_name)\n",
    "qa_pipeline = pipeline(\"text2text-generation\", model=model, tokenizer=tokenizer)"
   ]
  },
  {
   "cell_type": "code",
   "execution_count": 46,
   "id": "a3d98ce5-f61b-4a39-b8b8-fd4e24dbd75d",
   "metadata": {},
   "outputs": [],
   "source": [
    "def ask_dataframe_question(question: str, df: pd.DataFrame) -> str:\n",
    "    q = question.lower()\n",
    "    if \"groceries\" in q and \"last month\" in q:\n",
    "        last_month = pd.Timestamp.now().to_period(\"M\") - 1\n",
    "        total = df[(df['Category'] == 'Groceries') & (df['Month'] == last_month)]['Amount'].sum()\n",
    "        return f\"You spent ${total:.2f} on groceries last month.\"\n",
    "    elif \"top vendor\" in q:\n",
    "        top_vendor = df.groupby(\"Vendor\")['Amount'].sum().idxmax()\n",
    "        return f\"Your top vendor is {top_vendor}.\"\n",
    "    elif \"average weekly\" in q:\n",
    "        df['Week'] = df['Date'].dt.to_period('W')\n",
    "        weekly_avg = df.groupby('Week')['Amount'].sum().mean()\n",
    "        return f\"Your average weekly spending is ${weekly_avg:.2f}.\"\n",
    "    else:\n",
    "        return \"Sorry, I don't know how to answer that yet.\"\n",
    "def get_pretty_response(fact: str):\n",
    "    prompt = f\"Rephrase this in a friendly and helpful tone:\\n\\n{fact}\"\n",
    "    output = qa_pipeline(prompt, max_length=100, do_sample=False)[0][\"generated_text\"]\n",
    "    return output"
   ]
  },
  {
   "cell_type": "code",
   "execution_count": 47,
   "id": "0a65a3e9-1720-4e2e-9414-40179ecf8260",
   "metadata": {},
   "outputs": [
    {
     "name": "stdout",
     "output_type": "stream",
     "text": [
      "You spent $1529.44 on groceries last month.\n"
     ]
    }
   ],
   "source": [
    "fact = ask_dataframe_question(\"How much did I spend on groceries last month?\", df)\n",
    "friendly_response = get_pretty_response(fact)\n",
    "print(friendly_response)"
   ]
  },
  {
   "cell_type": "code",
   "execution_count": 48,
   "id": "f85e5ebc-3a01-4a77-b91b-b2335511137c",
   "metadata": {},
   "outputs": [],
   "source": [
    "from sklearn.model_selection import train_test_split"
   ]
  },
  {
   "cell_type": "code",
   "execution_count": 49,
   "id": "69cae736-4e7a-4f6a-934c-ebce9751eece",
   "metadata": {},
   "outputs": [
    {
     "name": "stdout",
     "output_type": "stream",
     "text": [
      "Number of 'Other' categories: 0\n",
      "Number of non-'Other' categories: 100\n"
     ]
    }
   ],
   "source": [
    "print(\"Number of 'Other' categories:\", (df['Category'] == 'Other').sum())\n",
    "print(\"Number of non-'Other' categories:\", (df['Category'] != 'Other').sum())"
   ]
  },
  {
   "cell_type": "code",
   "execution_count": 50,
   "id": "d20b3e13-d3cf-428e-869d-8f8bb14e890b",
   "metadata": {},
   "outputs": [
    {
     "name": "stdout",
     "output_type": "stream",
     "text": [
      "86    starbucks\n",
      "29      spotify\n",
      "7       walmart\n",
      "91         uber\n",
      "26    starbucks\n",
      "31      walmart\n",
      "87      walmart\n",
      "57    starbucks\n",
      "17         uber\n",
      "99    starbucks\n",
      "Name: Vendor, dtype: object\n"
     ]
    }
   ],
   "source": [
    "print(df['Vendor'].sample(10))"
   ]
  },
  {
   "cell_type": "code",
   "execution_count": 51,
   "id": "1910ce7d-4a6c-4175-ad2f-cc1524209e3f",
   "metadata": {},
   "outputs": [],
   "source": [
    "import re"
   ]
  },
  {
   "cell_type": "code",
   "execution_count": 52,
   "id": "5fbf35e4-c09c-4a59-8d67-531294adb3a1",
   "metadata": {},
   "outputs": [],
   "source": [
    "def map_category(vendor):\n",
    "    vendor = str(vendor).lower()\n",
    "    if re.search(r'uber|ola|lyft', vendor): return 'Transport'\n",
    "    elif re.search(r'amazon|flipkart|ebay', vendor): return 'Shopping'\n",
    "    elif re.search(r'walmart|target|costco', vendor): return 'Groceries'\n",
    "    elif re.search(r'starbucks|domino|mcdonald|kfc|pizza', vendor): return 'Food'\n",
    "    elif re.search(r'netflix|spotify|hulu|prime video', vendor): return 'Entertainment'\n",
    "    else: return 'Other'\n",
    "df['Category'] = df['Vendor'].apply(map_category)"
   ]
  },
  {
   "cell_type": "code",
   "execution_count": 53,
   "id": "13abd76b-cf68-4c52-8a06-23efb6e7ae89",
   "metadata": {},
   "outputs": [
    {
     "name": "stdout",
     "output_type": "stream",
     "text": [
      "Category\n",
      "Entertainment    26\n",
      "Food             23\n",
      "Groceries        22\n",
      "Transport        17\n",
      "Shopping         12\n",
      "Name: count, dtype: int64\n"
     ]
    }
   ],
   "source": [
    "print(df['Category'].value_counts())"
   ]
  },
  {
   "cell_type": "code",
   "execution_count": 54,
   "id": "d42b98c4-550d-490f-8c75-d79a9753f194",
   "metadata": {},
   "outputs": [],
   "source": [
    "daily_totals = df.groupby('Date')['Amount'].sum()\n",
    "mean = daily_totals.mean()\n",
    "std = daily_totals.std()\n",
    "df_daily = daily_totals.reset_index()\n",
    "df_daily['ZScore'] = (df_daily['Amount'] - mean) / std\n",
    "df_daily['Anomaly'] = df_daily['ZScore'].apply(lambda z: abs(z) > 2)"
   ]
  },
  {
   "cell_type": "code",
   "execution_count": 55,
   "id": "ba94af87-18ec-4aba-b5e6-55bc1a383127",
   "metadata": {},
   "outputs": [
    {
     "name": "stdout",
     "output_type": "stream",
     "text": [
      "Suspicious Spending Days:\n",
      "         Date   Amount    ZScore\n",
      "15 2025-03-22  1189.07  4.044222\n"
     ]
    }
   ],
   "source": [
    "anomalies = df_daily[df_daily['Anomaly']]\n",
    "print(\"Suspicious Spending Days:\")\n",
    "print(anomalies[['Date', 'Amount', 'ZScore']])"
   ]
  },
  {
   "cell_type": "code",
   "execution_count": 56,
   "id": "70e8255f-5b96-49a8-9d31-91aed89828f8",
   "metadata": {},
   "outputs": [
    {
     "data": {
      "image/png": "[encoded data removed]",
      "text/plain": [
       "<Figure size 1200x600 with 1 Axes>"
      ]
     },
     "metadata": {},
     "output_type": "display_data"
    }
   ],
   "source": [
    "plt.figure(figsize=(12, 6))\n",
    "plt.plot(df_daily['Date'], df_daily['Amount'], label='Daily Spend')\n",
    "plt.scatter(anomalies['Date'], anomalies['Amount'], color='red', label='Anomaly')\n",
    "plt.title('Daily Spending with Anomaly Detection')\n",
    "plt.xlabel('Date')\n",
    "plt.ylabel('Amount')\n",
    "plt.legend()\n",
    "plt.xticks(rotation=45)\n",
    "plt.tight_layout()\n",
    "plt.show()"
   ]
  },
  {
   "cell_type": "code",
   "execution_count": 64,
   "id": "95e3ad12-09e7-41bd-b787-e33826253f58",
   "metadata": {},
   "outputs": [
    {
     "name": "stdout",
     "output_type": "stream",
     "text": [
      "Vendor: Starbucks\n",
      "Vendor rows: 0\n",
      "Empty DataFrame\n",
      "Columns: [Date, Vendor, Amount, Category, Month, Weekday]\n",
      "Index: []\n"
     ]
    }
   ],
   "source": [
    "vendor = \"Starbucks\"  # or any vendor in your fake dataset\n",
    "vendor_data = df[df['Vendor'] == vendor]\n",
    "print(f\"Vendor: {vendor}\")\n",
    "print(\"Vendor rows:\", len(vendor_data))\n",
    "print(vendor_data.head())"
   ]
  },
  {
   "cell_type": "code",
   "execution_count": 66,
   "id": "32dc86cc-b55b-4940-ae07-64689104539d",
   "metadata": {},
   "outputs": [],
   "source": [
    "vendor = \"starbucks\"\n",
    "vendor_data = df[df['Vendor'].str.contains(vendor, case=False, na=False)]"
   ]
  },
  {
   "cell_type": "code",
   "execution_count": 68,
   "id": "8f512e19-c1ea-44e1-868b-06b78f9e670f",
   "metadata": {},
   "outputs": [
    {
     "data": {
      "image/png": "[encoded data removed]",
      "text/plain": [
       "<Figure size 640x480 with 1 Axes>"
      ]
     },
     "metadata": {},
     "output_type": "display_data"
    }
   ],
   "source": [
    "if vendor_data.empty:\n",
    "    print(f\"No data found for vendor: {vendor}\")\n",
    "else:\n",
    "    monthly = vendor_data.groupby(vendor_data['Date'].dt.to_period('M'))['Amount'].sum()\n",
    "    monthly.plot(kind='bar', title=f\"Monthly Spend at {vendor.title()}\")\n",
    "    plt.ylabel(\"Amount ($)\")\n",
    "    plt.xlabel(\"Month\")\n",
    "    plt.xticks(rotation=45)\n",
    "    plt.tight_layout()\n",
    "    plt.show()"
   ]
  },
  {
   "cell_type": "code",
   "execution_count": 70,
   "id": "b42d9539-cd15-4006-ae01-f053174e2805",
   "metadata": {},
   "outputs": [],
   "source": [
    "vendors = df['Vendor'].unique()\n",
    "vendor = \"walmart\"  # or dynamically from user input\n",
    "if vendor not in vendors:\n",
    "    print(f\"Vendor '{vendor}' not found. Try one of these:\")\n",
    "    print(sorted(vendors[:10]))  # preview only"
   ]
  },
  {
   "cell_type": "code",
   "execution_count": 72,
   "id": "3c5842c9-6074-481e-bf68-10684e6c0924",
   "metadata": {},
   "outputs": [],
   "source": [
    "monthly_budget = 1500  # Or input from user"
   ]
  },
  {
   "cell_type": "code",
   "execution_count": 74,
   "id": "3afca801-7ce7-4d68-87c2-035ecf90d491",
   "metadata": {},
   "outputs": [
    {
     "name": "stdout",
     "output_type": "stream",
     "text": [
      "         Date     Vendor  Amount       Category    Month    Weekday\n",
      "6  2025-03-19    walmart  299.85      Groceries  2025-03  Wednesday\n",
      "84 2025-04-07    walmart  299.00      Groceries  2025-04     Monday\n",
      "69 2025-04-18    walmart  295.11      Groceries  2025-04     Friday\n",
      "36 2025-04-14       uber  291.99      Transport  2025-04     Monday\n",
      "93 2025-04-09     amazon  289.91       Shopping  2025-04  Wednesday\n",
      "64 2025-04-12     amazon  285.16       Shopping  2025-04   Saturday\n",
      "60 2025-04-05    spotify  282.56  Entertainment  2025-04   Saturday\n",
      "87 2025-04-13    walmart  281.24      Groceries  2025-04     Sunday\n",
      "22 2025-04-26  starbucks  280.40           Food  2025-04   Saturday\n",
      "53 2025-04-25    spotify  276.82  Entertainment  2025-04     Friday\n"
     ]
    }
   ],
   "source": [
    "print(df.sort_values(by='Amount', ascending=False).head(10))"
   ]
  },
  {
   "cell_type": "code",
   "execution_count": 76,
   "id": "d72396f9-f444-49f8-9af0-f32b5d85b120",
   "metadata": {},
   "outputs": [
    {
     "name": "stdout",
     "output_type": "stream",
     "text": [
      "Max: 299.85\n",
      "Mean: 159.54149999999998\n",
      "Median: 164.135\n"
     ]
    }
   ],
   "source": [
    "print(\"Max:\", df['Amount'].max())\n",
    "print(\"Mean:\", df['Amount'].mean())\n",
    "print(\"Median:\", df['Amount'].median())"
   ]
  },
  {
   "cell_type": "code",
   "execution_count": 78,
   "id": "c8cd48cf-9a35-47bb-9d1e-dcd116712ec6",
   "metadata": {},
   "outputs": [],
   "source": [
    "# Force numeric only\n",
    "df['Amount'] = pd.to_numeric(df['Amount'], errors='coerce')\n",
    "df = df[df['Amount'] > 0]\n",
    "df = df[df['Amount'] < 10000]  # optional: cap absurd charges"
   ]
  },
  {
   "cell_type": "code",
   "execution_count": 80,
   "id": "482673c2-45f9-4d50-b134-deb864b1267b",
   "metadata": {},
   "outputs": [],
   "source": [
    "# Ensure 'Amount' is numeric\n",
    "df['Amount'] = pd.to_numeric(df['Amount'], errors='coerce')"
   ]
  },
  {
   "cell_type": "code",
   "execution_count": 82,
   "id": "8ff94f18-b09e-47e7-9e2a-b4a448fd8626",
   "metadata": {},
   "outputs": [],
   "source": [
    "# Drop invalid or missing values\n",
    "df = df.dropna(subset=['Amount'])\n",
    "df = df[df['Amount'] > 0]"
   ]
  },
  {
   "cell_type": "code",
   "execution_count": 84,
   "id": "4c4ce5e5-778c-4856-a907-58a500c47b5c",
   "metadata": {},
   "outputs": [],
   "source": [
    "# Optional: Filter out ultra-high outliers (unless you’re truly that reckless)\n",
    "df = df[df['Amount'] < 10000]  # You can raise this if you're fancy"
   ]
  },
  {
   "cell_type": "code",
   "execution_count": 86,
   "id": "7354c044-a65a-462d-ba31-861fc7c0658d",
   "metadata": {},
   "outputs": [],
   "source": [
    "# User-defined monthly budget\n",
    "monthly_budget = 1500"
   ]
  },
  {
   "cell_type": "code",
   "execution_count": 88,
   "id": "a40f1403-b39f-4dfd-9d69-cf03fdded9bb",
   "metadata": {},
   "outputs": [],
   "source": [
    "# Sanity filter: drop any rows with ridiculously large amounts\n",
    "df = df[df['Amount'] < 10000]\n",
    "# Optional: Cap amounts even more strictly\n",
    "df = df[df['Amount'] < 5000]  # personal finance, not corporate loans"
   ]
  },
  {
   "cell_type": "code",
   "execution_count": 90,
   "id": "0a6f2cf6-fb43-4dff-bc27-52a53ff0a658",
   "metadata": {},
   "outputs": [
    {
     "name": "stdout",
     "output_type": "stream",
     "text": [
      "         Date     Vendor  Amount       Category    Month    Weekday\n",
      "6  2025-03-19    walmart  299.85      Groceries  2025-03  Wednesday\n",
      "84 2025-04-07    walmart  299.00      Groceries  2025-04     Monday\n",
      "69 2025-04-18    walmart  295.11      Groceries  2025-04     Friday\n",
      "36 2025-04-14       uber  291.99      Transport  2025-04     Monday\n",
      "93 2025-04-09     amazon  289.91       Shopping  2025-04  Wednesday\n",
      "64 2025-04-12     amazon  285.16       Shopping  2025-04   Saturday\n",
      "60 2025-04-05    spotify  282.56  Entertainment  2025-04   Saturday\n",
      "87 2025-04-13    walmart  281.24      Groceries  2025-04     Sunday\n",
      "22 2025-04-26  starbucks  280.40           Food  2025-04   Saturday\n",
      "53 2025-04-25    spotify  276.82  Entertainment  2025-04     Friday\n"
     ]
    }
   ],
   "source": [
    "print(df.sort_values('Amount', ascending=False).head(10))"
   ]
  },
  {
   "cell_type": "code",
   "execution_count": 92,
   "id": "faa7e5b2-4035-4728-8d2b-b13105a89936",
   "metadata": {},
   "outputs": [
    {
     "data": {
      "image/png": "[encoded data removed]",
      "text/plain": [
       "<Figure size 640x480 with 1 Axes>"
      ]
     },
     "metadata": {},
     "output_type": "display_data"
    }
   ],
   "source": [
    "plt.hist(df['Amount'], bins=50)\n",
    "plt.title(\"Distribution of Transaction Amounts\")\n",
    "plt.xlabel(\"Amount ($)\")\n",
    "plt.ylabel(\"Frequency\")\n",
    "plt.show()"
   ]
  },
  {
   "cell_type": "code",
   "execution_count": 94,
   "id": "c99782eb-7240-4d53-866a-268f79ff74f7",
   "metadata": {},
   "outputs": [],
   "source": [
    "def realistic_amount():\n",
    "    return round(np.random.lognormal(mean=3.5, sigma=0.5), 2)\n",
    "def generate_fake_transactions(n=300):\n",
    "    return pd.DataFrame([{\n",
    "        'Date': faker.date_between(start_date='-60d', end_date='today'),\n",
    "        'Vendor': vendor,\n",
    "        'Amount': realistic_amount(),\n",
    "        'Category': vendors[vendor]\n",
    "    } for vendor in random.choices(list(vendors.keys()), k=n)])"
   ]
  },
  {
   "cell_type": "code",
   "execution_count": 96,
   "id": "8693c7c6-a1fc-4ba9-9aef-cf3759ab6e00",
   "metadata": {},
   "outputs": [
    {
     "name": "stderr",
     "output_type": "stream",
     "text": [
      "Device set to use cpu\n"
     ]
    }
   ],
   "source": [
    "model_name = \"google/flan-t5-small\"\n",
    "tokenizer = AutoTokenizer.from_pretrained(model_name)\n",
    "model = AutoModelForSeq2SeqLM.from_pretrained(model_name)\n",
    "predictor = pipeline(\"text2text-generation\", model=model, tokenizer=tokenizer)\n",
    "def forecast_spend(category, history):\n",
    "    prompt = f\"Given my past monthly {category} spending: {', '.join(map(str, history))}, what will I spend next month?\"\n",
    "    result = predictor(prompt)[0]['generated_text']\n",
    "    return result"
   ]
  },
  {
   "cell_type": "code",
   "execution_count": 100,
   "id": "1eb7977d-f13d-4a81-a57c-5f6bb507a587",
   "metadata": {},
   "outputs": [],
   "source": [
    "profile_data = df.groupby('Category')['Amount'].sum().reset_index()\n",
    "X = profile_data[['Amount']]"
   ]
  },
  {
   "cell_type": "code",
   "execution_count": 102,
   "id": "5da8dfbb-7481-4770-b3f1-2aa514d6b7ae",
   "metadata": {},
   "outputs": [
    {
     "name": "stderr",
     "output_type": "stream",
     "text": [
      "C:\\Anaconda3\\Lib\\site-packages\\sklearn\\cluster\\_kmeans.py:1429: UserWarning: KMeans is known to have a memory leak on Windows with MKL, when there are less chunks than available threads. You can avoid it by setting the environment variable OMP_NUM_THREADS=1.\n",
      "  warnings.warn(\n"
     ]
    }
   ],
   "source": [
    "num_samples = len(profile_data)\n",
    "if num_samples >= 3:\n",
    "    k = min(3, num_samples)\n",
    "    profile_data['Cluster'] = KMeans(n_clusters=k, n_init=10).fit_predict(X)\n",
    "else:\n",
    "    print(\"Not enough categories to create spending clusters.\")"
   ]
  },
  {
   "cell_type": "code",
   "execution_count": 104,
   "id": "111e5ae3-b9ad-49e2-ab34-753e7ce121a7",
   "metadata": {},
   "outputs": [
    {
     "name": "stdout",
     "output_type": "stream",
     "text": [
      "Category\n",
      "Entertainment    26\n",
      "Food             23\n",
      "Groceries        22\n",
      "Transport        17\n",
      "Shopping         12\n",
      "Name: count, dtype: int64\n"
     ]
    }
   ],
   "source": [
    "print(df['Category'].value_counts())"
   ]
  },
  {
   "cell_type": "code",
   "execution_count": 106,
   "id": "7a974471-f0df-4183-be9f-99fcf2494113",
   "metadata": {},
   "outputs": [
    {
     "name": "stdout",
     "output_type": "stream",
     "text": [
      "You could've earned $311.00 in cashback last month.\n"
     ]
    }
   ],
   "source": [
    "card_rewards = {\n",
    "    'Food': 0.03,\n",
    "    'Shopping': 0.02,\n",
    "    'Transport': 0.01,\n",
    "    'Groceries': 0.015,\n",
    "    'Entertainment': 0.02\n",
    "}\n",
    "\n",
    "df['Reward'] = df.apply(lambda row: row['Amount'] * card_rewards.get(row['Category'], 0), axis=1)\n",
    "total_rewards = df['Reward'].sum()\n",
    "print(f\"You could've earned ${total_rewards:.2f} in cashback last month.\")"
   ]
  },
  {
   "cell_type": "code",
   "execution_count": 108,
   "id": "0ef38a85-32f7-45e1-997e-4f08f57de2d6",
   "metadata": {},
   "outputs": [
    {
     "name": "stdout",
     "output_type": "stream",
     "text": [
      "Top vendor addictions:\n",
      "- starbucks: 23.00% of your purchases\n",
      "- walmart: 22.00% of your purchases\n",
      "- uber: 17.00% of your purchases\n",
      "- netflix: 17.00% of your purchases\n",
      "- amazon: 12.00% of your purchases\n"
     ]
    }
   ],
   "source": [
    "top_vendors = df['Vendor'].value_counts(normalize=True).head(5)\n",
    "print(\"Top vendor addictions:\")\n",
    "for vendor, percent in top_vendors.items():\n",
    "    print(f\"- {vendor}: {percent*100:.2f}% of your purchases\")"
   ]
  },
  {
   "cell_type": "code",
   "execution_count": 110,
   "id": "e59cb159-f8ae-4e33-992c-b47478487efa",
   "metadata": {},
   "outputs": [
    {
     "name": "stdout",
     "output_type": "stream",
     "text": [
      "\n",
      "Zen Alerts:\n",
      "😮 You’ve spent 40% of your budget in 3 days. Breathe.\n",
      "📺 Consider cutting back on Netflix. Your wallet is crying.\n"
     ]
    }
   ],
   "source": [
    "alerts = []\n",
    "# 40% budget in 3 days\n",
    "last_3_days = df[df['Date'] >= df['Date'].max() - pd.Timedelta(days=3)]\n",
    "if last_3_days['Amount'].sum() > monthly_budget * 0.4:\n",
    "    alerts.append(\"😮 You’ve spent 40% of your budget in 3 days. Breathe.\")\n",
    "# Excessive Entertainment\n",
    "entertainment_spend = df[df['Category'] == 'Entertainment']['Amount'].sum()\n",
    "if entertainment_spend > monthly_budget * 0.3:\n",
    "    alerts.append(\"📺 Consider cutting back on Netflix. Your wallet is crying.\")\n",
    "print(\"\\nZen Alerts:\")\n",
    "print(\"\\n\".join(alerts) if alerts else \"You're financially zen... for now.\")"
   ]
  },
  {
   "cell_type": "code",
   "execution_count": 114,
   "id": "58478f56-e41d-4f03-95a8-75878aec4bc5",
   "metadata": {},
   "outputs": [
    {
     "name": "stdout",
     "output_type": "stream",
     "text": [
      "You're $10954.15 over. Suggested budget trims:\n",
      "- Reduce 'Entertainment' by $1122.25\n",
      "- Reduce 'Groceries' by $911.24\n",
      "- Reduce 'Food' by $841.94\n",
      "- Reduce 'Transport' by $588.44\n",
      "- Reduce 'Shopping' by $524.67\n"
     ]
    }
   ],
   "source": [
    "monthly_budget = 5000  # or whatever fantasy number you're pretending to stick to\n",
    "monthly_totals = df.groupby('Category')['Amount'].sum()\n",
    "total_spent = monthly_totals.sum()\n",
    "overage = total_spent - monthly_budget\n",
    "if overage > 0:\n",
    "    cuts = monthly_totals.sort_values(ascending=False)\n",
    "    print(f\"You're ${overage:.2f} over. Suggested budget trims:\")\n",
    "    for cat, amt in cuts.items():\n",
    "        cut_amt = min(amt * 0.25, overage)\n",
    "        print(f\"- Reduce '{cat}' by ${cut_amt:.2f}\")\n",
    "        overage -= cut_amt\n",
    "        if overage <= 0:\n",
    "            break\n",
    "else:\n",
    "    print(\"You’re within budget. No cuts necessary.\")"
   ]
  },
  {
   "cell_type": "code",
   "execution_count": 118,
   "id": "df664eb9-a7cf-49a3-86de-569e2782bc09",
   "metadata": {},
   "outputs": [
    {
     "name": "stdout",
     "output_type": "stream",
     "text": [
      "WARNING:tensorflow:From C:\\Users\\aniru\\AppData\\Roaming\\Python\\Python312\\site-packages\\tf_keras\\src\\losses.py:2976: The name tf.losses.sparse_softmax_cross_entropy is deprecated. Please use tf.compat.v1.losses.sparse_softmax_cross_entropy instead.\n",
      "\n"
     ]
    },
    {
     "name": "stderr",
     "output_type": "stream",
     "text": [
      "Device set to use cpu\n"
     ]
    }
   ],
   "source": [
    "from transformers import pipeline\n",
    "predictor = pipeline(\"text-generation\", model=\"gpt2\")  # or any other model"
   ]
  },
  {
   "cell_type": "code",
   "execution_count": 120,
   "id": "39177ff7-a201-4181-aaaf-43aff76441e7",
   "metadata": {},
   "outputs": [],
   "source": [
    "def ask_budget_bot(prompt):\n",
    "    full_prompt = f\"You are a financial assistant. {prompt}\"\n",
    "    result = predictor(full_prompt, max_new_tokens=60)\n",
    "    return result[0]['generated_text'][len(full_prompt):].strip()"
   ]
  },
  {
   "cell_type": "code",
   "execution_count": 122,
   "id": "fa89dd81-824c-45b0-8b3b-3ac6b4515ebd",
   "metadata": {},
   "outputs": [
    {
     "name": "stderr",
     "output_type": "stream",
     "text": [
      "Setting `pad_token_id` to `eos_token_id`:50256 for open-end generation.\n"
     ]
    },
    {
     "name": "stdout",
     "output_type": "stream",
     "text": [
      "Do I need a financial advisor when I buy and use a new device? Is it necessary? Yes, but not essential. Check the Financial Advisor FAQ to see if your financial advisor has any written suggestions.\n",
      "\n",
      "Do I have to take money out of my account if I change money?\n"
     ]
    }
   ],
   "source": [
    "# Example:\n",
    "print(ask_budget_bot(\"Review my entertainment spending and suggest one realistic way to cut back.\"))"
   ]
  },
  {
   "cell_type": "code",
   "execution_count": 126,
   "id": "044bd0da-1579-4df7-a5fc-b76c45fbe8e2",
   "metadata": {},
   "outputs": [
    {
     "name": "stderr",
     "output_type": "stream",
     "text": [
      "Xet Storage is enabled for this repo, but the 'hf_xet' package is not installed. Falling back to regular HTTP download. For better performance, install the package with: `pip install huggingface_hub[hf_xet]` or `pip install hf_xet`\n"
     ]
    },
    {
     "data": {
      "application/vnd.jupyter.widget-view+json": {
       "model_id": "800aa38a588543179be3b8fe95567c0d",
       "version_major": 2,
       "version_minor": 0
      },
      "text/plain": [
       "model.safetensors:  68%|######8   | 1.11G/1.63G [00:00<?, ?B/s]"
      ]
     },
     "metadata": {},
     "output_type": "display_data"
    },
    {
     "name": "stderr",
     "output_type": "stream",
     "text": [
      "C:\\Anaconda3\\Lib\\site-packages\\huggingface_hub\\file_download.py:144: UserWarning: `huggingface_hub` cache-system uses symlinks by default to efficiently store duplicated files but your machine does not support them in C:\\Users\\aniru\\.cache\\huggingface\\hub\\models--facebook--bart-large-mnli. Caching files will still work but in a degraded version that might require more space on your disk. This warning can be disabled by setting the `HF_HUB_DISABLE_SYMLINKS_WARNING` environment variable. For more details, see https://huggingface.co/docs/huggingface_hub/how-to-cache#limitations.\n",
      "To support symlinks on Windows, you either need to activate Developer Mode or to run Python as an administrator. In order to activate developer mode, see this article: https://docs.microsoft.com/en-us/windows/apps/get-started/enable-your-device-for-development\n",
      "  warnings.warn(message)\n"
     ]
    },
    {
     "data": {
      "application/vnd.jupyter.widget-view+json": {
       "model_id": "9b167c49e7ae4837a966024016670d51",
       "version_major": 2,
       "version_minor": 0
      },
      "text/plain": [
       "tokenizer_config.json:   0%|          | 0.00/26.0 [00:00<?, ?B/s]"
      ]
     },
     "metadata": {},
     "output_type": "display_data"
    },
    {
     "data": {
      "application/vnd.jupyter.widget-view+json": {
       "model_id": "158c730bfe734ce0a9471a154565b17f",
       "version_major": 2,
       "version_minor": 0
      },
      "text/plain": [
       "vocab.json:   0%|          | 0.00/899k [00:00<?, ?B/s]"
      ]
     },
     "metadata": {},
     "output_type": "display_data"
    },
    {
     "data": {
      "application/vnd.jupyter.widget-view+json": {
       "model_id": "69f9921731be4fd0ad38ab07b62f90d0",
       "version_major": 2,
       "version_minor": 0
      },
      "text/plain": [
       "merges.txt:   0%|          | 0.00/456k [00:00<?, ?B/s]"
      ]
     },
     "metadata": {},
     "output_type": "display_data"
    },
    {
     "data": {
      "application/vnd.jupyter.widget-view+json": {
       "model_id": "7480f387a9bc4d49bf5b641c0a46e49e",
       "version_major": 2,
       "version_minor": 0
      },
      "text/plain": [
       "tokenizer.json:   0%|          | 0.00/1.36M [00:00<?, ?B/s]"
      ]
     },
     "metadata": {},
     "output_type": "display_data"
    },
    {
     "name": "stderr",
     "output_type": "stream",
     "text": [
      "Device set to use cpu\n"
     ]
    }
   ],
   "source": [
    "zero_classifier = pipeline(\"zero-shot-classification\", model=\"facebook/bart-large-mnli\")\n",
    "labels = [\"Food\", \"Shopping\", \"Transport\", \"Groceries\", \"Entertainment\", \"Bills\"]\n",
    "def auto_categorize(vendor):\n",
    "    result = zero_classifier(vendor, labels)\n",
    "    return result['labels'][0]\n",
    "df['AutoCategory'] = df['Vendor'].apply(auto_categorize)"
   ]
  },
  {
   "cell_type": "code",
   "execution_count": 128,
   "id": "7557239b-4ffb-4ed2-a606-99f46cd17198",
   "metadata": {},
   "outputs": [
    {
     "name": "stdout",
     "output_type": "stream",
     "text": [
      "🧨 Suspicious Transactions:\n",
      "          Date     Vendor  Amount Category    Month Weekday  Reward  \\\n",
      "26 2025-03-23  starbucks    5.26     Food  2025-03  Sunday  0.1578   \n",
      "\n",
      "     AutoCategory  Outlier  \n",
      "26  Entertainment       -1  \n"
     ]
    }
   ],
   "source": [
    "from sklearn.ensemble import IsolationForest\n",
    "iso = IsolationForest(contamination=0.01, random_state=42)\n",
    "df['Outlier'] = iso.fit_predict(df[['Amount']])\n",
    "anomalies = df[df['Outlier'] == -1]\n",
    "print(\"🧨 Suspicious Transactions:\\n\", anomalies)"
   ]
  },
  {
   "cell_type": "code",
   "execution_count": 132,
   "id": "98cb4837-22e1-4c48-85ef-2f8387b7b164",
   "metadata": {},
   "outputs": [
    {
     "name": "stdout",
     "output_type": "stream",
     "text": [
      "Index(['Date', 'Vendor', 'Amount', 'Category', 'Month', 'Weekday', 'Reward',\n",
      "       'AutoCategory', 'Outlier'],\n",
      "      dtype='object')\n"
     ]
    }
   ],
   "source": [
    "print(df.columns)"
   ]
  },
  {
   "cell_type": "code",
   "execution_count": 134,
   "id": "7a192863-8289-43dc-8a54-ec59e29ecdee",
   "metadata": {},
   "outputs": [],
   "source": [
    "import numpy as np\n",
    "notes = [\n",
    "    \"Dinner at fancy place\", \n",
    "    \"Bought groceries\", \n",
    "    \"Online shopping\", \n",
    "    \"Movie night\", \n",
    "    \"Taxi to work\", \n",
    "    \"Subscription fee\", \n",
    "    \"Spontaneous regret spend\"\n",
    "]\n",
    "df['Notes'] = np.random.choice(notes, size=len(df))"
   ]
  },
  {
   "cell_type": "code",
   "execution_count": 136,
   "id": "eb4c09b6-023b-48ae-a984-e4e95aa82ad0",
   "metadata": {},
   "outputs": [
    {
     "name": "stderr",
     "output_type": "stream",
     "text": [
      "No model was supplied, defaulted to distilbert/distilbert-base-uncased-finetuned-sst-2-english and revision 714eb0f (https://huggingface.co/distilbert/distilbert-base-uncased-finetuned-sst-2-english).\n",
      "Using a pipeline without specifying a model name and revision in production is not recommended.\n",
      "Device set to use cpu\n"
     ]
    }
   ],
   "source": [
    "# If you have a 'Notes' column:\n",
    "from transformers import pipeline\n",
    "sentiment = pipeline(\"sentiment-analysis\")\n",
    "df['Sentiment'] = df['Notes'].apply(lambda x: sentiment(x)[0]['label'] if pd.notnull(x) else None)"
   ]
  },
  {
   "cell_type": "code",
   "execution_count": 138,
   "id": "83ebfd43-a59e-41d1-a801-d7199e6cd28e",
   "metadata": {},
   "outputs": [],
   "source": [
    "user_goal = \"Save $500 in 2 months\""
   ]
  },
  {
   "cell_type": "code",
   "execution_count": 140,
   "id": "17ef55ae-8513-46c9-a63f-cc48a8e59288",
   "metadata": {},
   "outputs": [],
   "source": [
    "def suggest_goal_cut(df, goal_amount):\n",
    "    df_grouped = df.groupby('Category')['Amount'].sum().sort_values(ascending=False)\n",
    "    cut_plan = {}\n",
    "    remaining = goal_amount\n",
    "    for cat, amt in df_grouped.items():\n",
    "        cut = min(amt * 0.3, remaining)\n",
    "        if cut > 0:\n",
    "            cut_plan[cat] = cut\n",
    "            remaining -= cut\n",
    "        if remaining <= 0:\n",
    "            break\n",
    "    return cut_plan"
   ]
  },
  {
   "cell_type": "code",
   "execution_count": 142,
   "id": "348b0779-905d-4fda-9b0a-cc2d9a7be10d",
   "metadata": {},
   "outputs": [],
   "source": [
    "def reallocate_budget(spending, budget):\n",
    "    surplus = {}\n",
    "    deficit = {}\n",
    "    for cat in budget:\n",
    "        if spending[cat] < budget[cat]:\n",
    "            surplus[cat] = budget[cat] - spending[cat]\n",
    "        elif spending[cat] > budget[cat]:\n",
    "            deficit[cat] = spending[cat] - budget[cat]\n",
    "    return {\"surplus\": surplus, \"deficit\": deficit}"
   ]
  },
  {
   "cell_type": "code",
   "execution_count": 144,
   "id": "159b9604-4b2c-46b6-8bbd-e18792ef937d",
   "metadata": {},
   "outputs": [
    {
     "data": {
      "text/plain": [
       "Text(0.5, 1.0, 'Spending Heatmap')"
      ]
     },
     "execution_count": 144,
     "metadata": {},
     "output_type": "execute_result"
    },
    {
     "data": {
      "image/png": "[encoded data removed]",
      "text/plain": [
       "<Figure size 640x480 with 2 Axes>"
      ]
     },
     "metadata": {},
     "output_type": "display_data"
    }
   ],
   "source": [
    "df['Hour'] = df['Date'].dt.hour\n",
    "df['Day'] = df['Date'].dt.day_name()\n",
    "heatmap_data = df.pivot_table(index='Day', columns='Hour', values='Amount', aggfunc='sum').fillna(0)\n",
    "sns.heatmap(heatmap_data)\n",
    "plt.title(\"Spending Heatmap\")"
   ]
  },
  {
   "cell_type": "code",
   "execution_count": 146,
   "id": "134976be-9c10-4af3-82f0-549847443541",
   "metadata": {},
   "outputs": [],
   "source": [
    "vendor_freq = df['Vendor'].value_counts(normalize=True)\n",
    "loyalty = vendor_freq[vendor_freq > 0.05]  # Vendors with >5% of total visits"
   ]
  },
  {
   "cell_type": "code",
   "execution_count": 148,
   "id": "3b5a17a8-89c1-41d2-9559-41158cb2586c",
   "metadata": {},
   "outputs": [
    {
     "name": "stderr",
     "output_type": "stream",
     "text": [
      "Device set to use cpu\n"
     ]
    }
   ],
   "source": [
    "from transformers import pipeline\n",
    "zero_classifier = pipeline(\"zero-shot-classification\", model=\"facebook/bart-large-mnli\")\n",
    "labels = [\"Groceries\", \"Food\", \"Bills\", \"Entertainment\", \"Transport\"]\n",
    "def auto_categorize(vendor):\n",
    "    result = zero_classifier(vendor, labels)\n",
    "    return result['labels'][0]\n",
    "df['PredictedCategory'] = df['Vendor'].apply(auto_categorize)"
   ]
  },
  {
   "cell_type": "code",
   "execution_count": 150,
   "id": "6245d3f6-c8f1-4ea7-a910-9970e76a5e03",
   "metadata": {},
   "outputs": [
    {
     "data": {
      "text/plain": [
       "Text(0.5, 1.0, 'Monthly Burn Rate')"
      ]
     },
     "execution_count": 150,
     "metadata": {},
     "output_type": "execute_result"
    },
    {
     "data": {
      "image/png": "[encoded data removed]",
      "text/plain": [
       "<Figure size 640x480 with 1 Axes>"
      ]
     },
     "metadata": {},
     "output_type": "display_data"
    }
   ],
   "source": [
    "df['DayOfMonth'] = df['Date'].dt.day\n",
    "burn = df.groupby('DayOfMonth')['Amount'].sum().cumsum()\n",
    "plt.plot(burn)\n",
    "plt.title(\"Monthly Burn Rate\")"
   ]
  },
  {
   "cell_type": "code",
   "execution_count": 152,
   "id": "7b0eec15-7e77-43c3-85e3-22b4526fca4b",
   "metadata": {},
   "outputs": [
    {
     "name": "stderr",
     "output_type": "stream",
     "text": [
      "Device set to use cpu\n"
     ]
    }
   ],
   "source": [
    "from transformers import pipeline\n",
    "zero_classifier = pipeline(\"zero-shot-classification\", model=\"facebook/bart-large-mnli\")\n",
    "labels = [\"Groceries\", \"Food\", \"Bills\", \"Entertainment\", \"Transport\"]\n",
    "def auto_categorize(vendor):\n",
    "    result = zero_classifier(vendor, labels)\n",
    "    return result['labels'][0]\n",
    "df['PredictedCategory'] = df['Vendor'].apply(auto_categorize)"
   ]
  },
  {
   "cell_type": "code",
   "execution_count": 154,
   "id": "d60d9534-bc9d-4fc9-87a7-b589460c22b2",
   "metadata": {},
   "outputs": [
    {
     "data": {
      "text/plain": [
       "Text(0.5, 1.0, 'Monthly Burn Rate')"
      ]
     },
     "execution_count": 154,
     "metadata": {},
     "output_type": "execute_result"
    },
    {
     "data": {
      "image/png": "[encoded data removed]",
      "text/plain": [
       "<Figure size 640x480 with 1 Axes>"
      ]
     },
     "metadata": {},
     "output_type": "display_data"
    }
   ],
   "source": [
    "df['DayOfMonth'] = df['Date'].dt.day\n",
    "burn = df.groupby('DayOfMonth')['Amount'].sum().cumsum()\n",
    "plt.plot(burn)\n",
    "plt.title(\"Monthly Burn Rate\")"
   ]
  },
  {
   "cell_type": "code",
   "execution_count": 156,
   "id": "cf4326e4-888b-4e89-afee-27f19d9c0d9a",
   "metadata": {},
   "outputs": [],
   "source": [
    "from sklearn.ensemble import IsolationForest\n",
    "model = IsolationForest(contamination=0.01)\n",
    "df['Anomaly'] = model.fit_predict(df[['Amount']])"
   ]
  },
  {
   "cell_type": "code",
   "execution_count": null,
   "id": "518077f7-f955-4418-a0a8-f494b266e6bc",
   "metadata": {},
   "outputs": [],
   "source": []
  },
  {
   "cell_type": "code",
   "execution_count": null,
   "id": "8432d150-6f99-4265-96a9-93422b52e310",
   "metadata": {},
   "outputs": [],
   "source": []
  }
 ],
 "metadata": {
  "kernelspec": {
   "display_name": "Python [conda env:base] *",
   "language": "python",
   "name": "conda-base-py"
  },
  "language_info": {
   "codemirror_mode": {
    "name": "ipython",
    "version": 3
   },
   "file_extension": ".py",
   "mimetype": "text/x-python",
   "name": "python",
   "nbconvert_exporter": "python",
   "pygments_lexer": "ipython3",
   "version": "3.12.7"
  }
 },
 "nbformat": 4,
 "nbformat_minor": 5
}
